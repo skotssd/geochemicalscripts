{
 "cells": [
  {
   "cell_type": "markdown",
   "id": "1f9bcf49-68c7-4aa2-a590-ef8dd0f9a9e0",
   "metadata": {},
   "source": [
    "#Fe P speciation with AA calculated using PHREEQC\n",
    "\n",
    "Using the default PHREEQC database file as a starting point the reactions of ascorbic acid were added.\n",
    "Inputs include total iron, total phosphorus, total sulfur, total magnesium, total calcium, total inorganic carbon, total sodium, total chloride and total ascorbic acid, pH and pe"
   ]
  },
  {
   "cell_type": "code",
   "execution_count": 155,
   "id": "5d34bf38-3047-4379-bb31-c6187490e754",
   "metadata": {
    "jupyter": {
     "source_hidden": true
    },
    "tags": []
   },
   "outputs": [],
   "source": [
    "% setup environment\n",
    "% set path to equilibrium solver\n",
    "txt=pwd;\n",
    "n=length(txt);\n",
    "rootpath=txt(1:n-13);\n",
    "PHREEQCpath=[rootpath,'runPHREEQC'];\n",
    "addpath(PHREEQCpath);\n",
    "% clear data and number format\n",
    "clear; format short \n",
    "\n",
    "% turn off warnings\n",
    "warning off"
   ]
  },
  {
   "cell_type": "code",
   "execution_count": 156,
   "id": "60296842-c0a8-4958-926d-4336f9d5845e",
   "metadata": {},
   "outputs": [],
   "source": [
    "% input summary  -----------CHANGE THIS FOR YOUR SYSTEM --------\n",
    "FeT=122.6; FeAW=55.847; FeT=(FeT*1e-3)/FeAW; \n",
    "PT=45.45; PAW=30.9738; PT=(PT*1e-3)/PAW;\n",
    "ST=3.12; SAW=32.064; ST=(ST*1e-3)/SAW;\n",
    "MgT=3.43; MgAW=34.312; MgT=(MgT*1e-3)/MgAW;\n",
    "CaT=0.654; CaAW=40.08;CaT=(CaT*1e-3)/CaAW;\n",
    "CT=42.86; CAW=12.0111;CT=(CT*1e-3)/CAW;\n",
    "AAT=0.00448;\n",
    "pH=4;\n",
    "%pe= 0.422; \n",
    "Eh=+36; %mV\n",
    "pe= (Eh*1e-3)/0.0592;\n",
    "T=22;\n",
    "NaT=82.1; NaAW=22.989; NaT=(NaT*1e-3)/NaAW; NaT=NaT+3*PT;\n",
    "ClT=1.157; ClAW=35.453; ClT=(ClT*1e-3)/ClAW; ClT=ClT+3*FeT;"
   ]
  },
  {
   "cell_type": "markdown",
   "id": "599e5c46-7c64-40a8-a05b-a0aaddf03452",
   "metadata": {},
   "source": [
    "Format the inputs and define the outputs"
   ]
  },
  {
   "cell_type": "code",
   "execution_count": 157,
   "id": "60c350c3-5633-417a-9bfd-f719376e3e20",
   "metadata": {
    "jupyter": {
     "source_hidden": true
    },
    "tags": []
   },
   "outputs": [],
   "source": [
    "minerals=[{' Fe(OH)3(a)'}; {'Vivianite'}; {'Calcite'}; {'Hydroxyapatite'}; {'Siderite'};{'FeSppt'};{'Pyrite'}; {'Strengite'} ];  \n",
    "totalnames=[{'Fe(+3) '}; {'Fe(+2) '}; { 'Cl '}; { 'Na '}; { 'P '}; { 'Mg '}; {'Ca '}; {'S '}; { 'C(+4) '}; { 'D(-2)'}]; \n",
    "totalvector=[0              FeT          ClT       NaT       PT    MgT      CaT  ST     CT   AAT];\n",
    "speciesexport=[{'HPO4-2'}; {'H2PO4-'}; {'H3PO4'}; {'PO4-3'}; {'MgHPO4'}; {'NaHPO4-'};{'CaH2PO4+'};{'MgH2PO4+'};{'CaHPO4'};{'CaPO4-'};{'MgPO4-'}];\n",
    "speciesexport=[speciesexport; {'SO4-2'}; {'HS-'}; {'NaSO4-'}; {'MgSO4'};{'CaSO4'}];\n",
    "speciesexport=[speciesexport; {'D-2'}; {'D'}; {'H2D'}; {'HD-'}; {'FeHD+'}; {'FeD+'}; {'FeOHD'}; {'FeD2-'}; {'Fe(OH)2D-'}; {'FeD'}];\n",
    "speciesexport=[speciesexport; {'Hfo_wPO4-2'}; {'Hfo_wHPO4-'}; {'Hfo_wH2PO4'}];\n",
    "speciesexport=[speciesexport;{'Fe+3'}; {'FeOH+2'}; {'Fe(OH)2+'}; {'Fe(OH)4-'}; {'FeHPO4+'}; {'FeH2PO4+2'}];\n",
    "speciesexport=[speciesexport;{'Fe+2'}; {'FeHCO3+'}; {'FeHPO4'}; {'FeCO3'}; {'FeH2PO4+'}; {'FeSO4'}; {'FeCl+'}; {'FeOH+'}; {'FeHSO4+'}; {'Fe(HS)2'}; {'Fe(HS)3-'}];      \n",
    "database=['PHREEQC_AA.dat']; show=0; %0 no output to screen. 1 output to screen. display does not work in Octave/Jupyter.  only in matlab version\n",
    "acid=['HCl']; % need acid to maintain pH, can change which one."
   ]
  },
  {
   "cell_type": "markdown",
   "id": "f1b040b4-8b17-4420-aedb-9d542f541629",
   "metadata": {},
   "source": [
    "Now put in the solver"
   ]
  },
  {
   "cell_type": "code",
   "execution_count": 158,
   "id": "350bc62b-2846-4569-8036-0c4fe6db9103",
   "metadata": {
    "jupyter": {
     "source_hidden": true
    },
    "tags": []
   },
   "outputs": [
    {
     "data": {
      "text/plain": [
       "ans = 0\n"
      ]
     },
     "metadata": {},
     "output_type": "display_data"
    },
    {
     "data": {
      "text/plain": [
       "percentFeAAbound = 6.7430\n"
      ]
     },
     "metadata": {},
     "output_type": "display_data"
    }
   ],
   "source": [
    "[solutionspeciesconcs, solutionspeciesnames, solidconcs, solidnames]=...\n",
    "    runPHREEQCv2noHA(T,pH,pe,totalnames,totalvector,minerals,speciesexport,database,show,acid);\n",
    "    %convert phreeqc variable names for solids to matlab permissible names. set\n",
    "    %solid concs as variable names\n",
    "    for i=1:length(solidconcs)\n",
    "         tst=cell2mat(solidnames(i));\n",
    "         for j=1:length(tst)\n",
    "             if tst(j)=='('; tst(j)='L'; end\n",
    "             if tst(j)==')'; tst(j)='R'; end\n",
    "             if tst(j)==':'; tst(j)='C'; end\n",
    "             if tst(j)=='.'; tst(j)='p'; end\n",
    "         end\n",
    "         txt=[tst,'=solidconcs(i);']; eval(txt); % take out the semicolon after (i) if you want to see the solids listed with concs\n",
    "    end\n",
    "    for j=1:size(solutionspeciesconcs,1)\n",
    "            name=cell2mat(solutionspeciesnames(j));\n",
    "            %clean up name so it can be a matlab variable\n",
    "            name=regexprep(name,'(mol/kgw)','');\n",
    "            name=regexprep(name,'[m_]','');\n",
    "            name = strrep(name,'+','plus');\n",
    "            name = strrep(name,'-','minus');\n",
    "            for k=1:length(name)\n",
    "             if name(k)=='('; name(k)='L'; end\n",
    "             if name(k)==')'; name(k)='R'; end\n",
    "            end\n",
    "            txt=[name,'=solutionspeciesconcs(j);'];\n",
    "            eval(txt)\n",
    "    end\n",
    "\n",
    "%OUTPUTS\n",
    "FeboundAA=FeHDplus+FeDplus+FeOHD+FeD2minus+FeLOHR2Dminus+FeD+FeD2minus;\n",
    "percentFeAAbound=100*(FeboundAA/FeT)\n"
   ]
  }
 ],
 "metadata": {
  "kernelspec": {
   "display_name": "Octave (xoctave)",
   "language": "Octave",
   "name": "xoctave"
  },
  "language_info": {
   "codemirror_mode": "octave",
   "file_extension": ".m",
   "mimetype": "text/x-octave",
   "name": "Octave",
   "nbconvert_exporter": "",
   "pygments_lexer": "octave",
   "version": "7.3.0"
  }
 },
 "nbformat": 4,
 "nbformat_minor": 5
}
