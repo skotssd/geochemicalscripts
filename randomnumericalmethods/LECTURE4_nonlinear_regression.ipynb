{
 "cells": [
  {
   "cell_type": "code",
   "execution_count": 28,
   "id": "16ba4d47-6066-48c0-af76-1f509a12c559",
   "metadata": {},
   "outputs": [],
   "source": [
    "% some housekeeping stuff\n",
    "%register_graphics_toolkit (\"gnuplot\");\n",
    "%available_graphics_toolkits ();\n",
    "graphics_toolkit (\"plotly\")\n",
    "clear\n",
    "% load packages\n",
    "\n",
    "warning off\n",
    "%pkg install -forge statistics\n",
    "pkg load statistics\n",
    "\n",
    "%[dummy,info]=pkg('list');\n",
    "%dummy(1)\n",
    "%idx = strfind(dummy,\"sea\")\n",
    "% end of housekeeping"
   ]
  },
  {
   "cell_type": "markdown",
   "id": "725f486a",
   "metadata": {},
   "source": [
    "# Linear Regresion (reminder)\n",
    "\n",
    " - linear models have the form\n",
    " \n",
    " $$ y= \\beta_1 X_1 + \\beta_2 X_2 + ... + \\beta_n X_n$$\n",
    " \n",
    " - it is linear in the parameters (not necessarily in $X$)  \n",
    " - X can be transformation of the independent variable ($x$).  We did an example of $x^2$, but could be $\\sin(x)$ or $\\log(x)$ or whatever.  ($X$ can't be a function of $x$ and $y$ though, the only variable term in the expression for each $X$ must be $x$)\n",
    " - nonlinear models are everthing else\n",
    " - let's do an example with the first order decay equation\n",
    " \n",
    " $$ N = N_0 e^{-kt} $$\n",
    " \n",
    "  - let's assume an initial concentration of 0.01 M and a rate constant of 0.4 s$^{-1}$"
   ]
  },
  {
   "cell_type": "code",
   "execution_count": 31,
   "id": "edc3e534",
   "metadata": {
    "scrolled": true
   },
   "outputs": [
    {
     "data": {
      "application/vnd.plotly.v1+json": {
       "data": [
        {
         "line": {
          "color": "rgb(0,0,0)",
          "width": 0.5
         },
         "marker": {
          "color": "rgb(0,0,0)",
          "line": {
           "color": "rgb(0,0,0)"
          },
          "size": 6,
          "symbol": "circle"
         },
         "mode": "markers",
         "name": "",
         "showlegend": false,
         "type": "scatter",
         "visibility": true,
         "x": [
          0,
          1,
          2,
          3,
          4,
          5,
          6,
          7,
          8,
          9,
          10
         ],
         "xaxis": "x",
         "y": [
          0.010252934273702526,
          0.006622384284798463,
          0.004632016677104352,
          0.002996069671540492,
          0.0020106923650895204,
          0.0014360526817051422,
          0.0008463993819203021,
          0.0008141362430419918,
          0.0006019932065752117,
          -2.8675530576137854e-05,
          0.00014375766763144923
         ],
         "yaxis": "y"
        },
        {
         "line": {
          "color": "rgb(0,0,0)",
          "dash": "solid",
          "width": 0.5
         },
         "marker": {
          "color": "rgb(0,0,0)",
          "line": {
           "color": "rgb(0,0,0)"
          },
          "size": 6,
          "symbol": "none"
         },
         "mode": "lines",
         "name": "",
         "showlegend": false,
         "type": "scatter",
         "visibility": true,
         "x": [
          0,
          1,
          2,
          3,
          4,
          5,
          6,
          7,
          8,
          9,
          10
         ],
         "xaxis": "x",
         "y": [
          0.01,
          0.006703200460356393,
          0.004493289641172216,
          0.0030119421191220205,
          0.002018965179946554,
          0.0013533528323661271,
          0.0009071795328941247,
          0.0006081006262521795,
          0.0004076220397836621,
          0.0002732372244729256,
          0.00018315638888734178
         ],
         "yaxis": "y"
        }
       ],
       "layout": {
        "height": 420,
        "hovermode": "closest",
        "margin": {
         "b": 0,
         "l": 0,
         "r": 0,
         "t": 0
        },
        "plot_bgcolor": "rgba(0,0,0,0)",
        "showlegend": false,
        "width": 560,
        "xaxis": {
         "anchor": "y",
         "autorange": false,
         "domain": [
          0.13,
          0.905
         ],
         "exponentformat": "none",
         "gridcolor": "rgba(38,38,38,0.15)",
         "gridwidth": 1,
         "linecolor": "rgb(38,38,38)",
         "linewidth": 1,
         "mirror": "ticks",
         "range": [
          0,
          10
         ],
         "showgrid": false,
         "showline": true,
         "side": "bottom",
         "spikedash": "solid",
         "spikemode": "across",
         "spikesides": false,
         "spikethickness": 1,
         "tickangle": 0,
         "tickcolor": "rgb(38,38,38)",
         "tickfont": {
          "color": "rgb(38,38,38)",
          "size": 10
         },
         "ticklen": 3,
         "ticks": "inside",
         "ticktext": [
          "0",
          "2",
          "4",
          "6",
          "8",
          "10"
         ],
         "tickvals": [
          0,
          2,
          4,
          6,
          8,
          10
         ],
         "title": {
          "font": {
           "color": "rgb(0,0,0)",
           "size": 11
          },
          "text": ""
         },
         "type": "linear",
         "visible": true,
         "zeroline": false
        },
        "yaxis": {
         "anchor": "x",
         "autorange": false,
         "domain": [
          0.11,
          0.9249999999999999
         ],
         "exponentformat": "none",
         "gridcolor": "rgba(38,38,38,0.15)",
         "gridwidth": 1,
         "linecolor": "rgb(38,38,38)",
         "linewidth": 1,
         "mirror": "ticks",
         "range": [
          -0.002,
          0.012
         ],
         "showgrid": false,
         "showline": true,
         "side": "left",
         "spikedash": "solid",
         "spikemode": "across",
         "spikesides": false,
         "spikethickness": 1,
         "tickangle": 0,
         "tickcolor": "rgb(38,38,38)",
         "tickfont": {
          "color": "rgb(38,38,38)",
          "size": 10
         },
         "ticklen": 3,
         "ticks": "inside",
         "ticktext": [
          "-0.002",
          "0",
          "0.002",
          "0.004",
          "0.006",
          "0.008",
          "0.01",
          "0.012"
         ],
         "tickvals": [
          -0.002,
          0,
          0.002,
          0.004,
          0.006,
          0.008,
          0.01,
          0.012
         ],
         "title": {
          "font": {
           "color": "rgb(0,0,0)",
           "size": 11
          },
          "text": ""
         },
         "type": "linear",
         "visible": true,
         "zeroline": false
        }
       }
      }
     },
     "metadata": {},
     "output_type": "display_data"
    }
   ],
   "source": [
    "% define the variables and constants\n",
    "N0=0.01; k=0.4; t=0:1:10;\n",
    "\n",
    "% define the function.  remember the anonymous function from Lecture 1?\n",
    "firstorderdecay = @(t,N0,k) (N0.*exp(-k*t));\n",
    "\n",
    "%calculate N as a function of time\n",
    "N=firstorderdecay(t,N0,k); Nnoerror=N;\n",
    "\n",
    "%plot it\n",
    "plot(t,N,'ko')\n",
    "\n",
    "%let's add some noise\n",
    "err=0.02*max(N);\n",
    "N=N+err*randn(1,length(N));\n",
    "\n",
    "%plot with error\n",
    "plot(t,N,'ko',t,Nnoerror,'k-')\n"
   ]
  },
  {
   "cell_type": "markdown",
   "id": "0155c95b-fd0c-4f6c-ac3d-754a56b29f3d",
   "metadata": {},
   "source": [
    "### nonlinear optimization in matlab/octave\n",
    "\n",
    " - fundamentally nonlinear regression is searching for the minimum to the error furnction, defind as the sum of squares of the error\n",
    " - fminsearch is the command in Octave and Matlab to do this.  you will see an example below.\n",
    "  - fminsearch is based on the simplex algorithm (seperate lecture if we want to \"go there\").  Simplex has the advantage of not needing a gradient calculation and will even work for discontinuous functions\n",
    "  - with optimization toolbox in Matlab (and maybe in Octave?) there are other options for this search.  Gradient methods, constrained methods, ...\n",
    "  - first let's look at the error (SSE) surface"
   ]
  },
  {
   "cell_type": "code",
   "execution_count": 22,
   "id": "b3fa4b10-b69c-4330-848b-0ab9db32b8e6",
   "metadata": {},
   "outputs": [
    {
     "data": {
      "image/png": "[encoded data removed]"
     },
     "metadata": {
      "image/png": {
       "height": 420,
       "width": 560
      }
     },
     "output_type": "display_data"
    }
   ],
   "source": [
    "%plot -s 600,600 -f 'svg'\n",
    "\n",
    "% make parameter ranges based on % of the parameter values\n",
    "% you could \"hard code\" this with specific numbers but using \n",
    "% percent let's you span a good range I think.\n",
    "\n",
    "N0range=0.01*N0:0.1*N0:2*N0;\n",
    "krange=0.01*k:0.1*k:3*k;\n",
    "\n",
    "% now a loop to calcualte the error\n",
    "\n",
    "for i=1:length(N0range)\n",
    "    for j=1:length(krange)\n",
    "        model=firstorderdecay(t,N0range(i),krange(j)); \n",
    "        SSE(j,i)=sum((model-N).^2);\n",
    "    end\n",
    "end\n",
    "\n",
    "% and contour it.  try also contour as SSE and you will see\n",
    "% how log of the error helps\n",
    "% and also look at the mesh\n",
    "graphics_toolkit (\"notebook\")\n",
    "contour(N0range,krange,log10(SSE),10)\n",
    "%mesh(N0range,krange,log10(SSE))\n"
   ]
  },
  {
   "cell_type": "code",
   "execution_count": 23,
   "id": "13486c6c-f270-437e-9e99-3e0ee9d7f9d4",
   "metadata": {},
   "outputs": [
    {
     "data": {
      "text/plain": [
       "err = -5.1821\n"
      ]
     },
     "metadata": {},
     "output_type": "display_data"
    },
    {
     "data": {
      "application/vnd.plotly.v1+json": {
       "data": [
        {
         "line": {
          "color": "rgb(0,0,0)",
          "width": 0.5
         },
         "marker": {
          "color": "rgb(0,0,0)",
          "line": {
           "color": "rgb(0,0,0)"
          },
          "size": 6,
          "symbol": "circle"
         },
         "mode": "markers",
         "name": "",
         "showlegend": false,
         "type": "scatter",
         "visibility": true,
         "x": [
          0,
          1,
          2,
          3,
          4,
          5,
          6,
          7,
          8,
          9,
          10
         ],
         "xaxis": "x",
         "y": [
          0.009745939370855038,
          0.006791152189068294,
          0.004232243904679868,
          0.0028078350403187907,
          0.001927189058071229,
          0.0016888614720237303,
          0.000627693789900057,
          0.0006646899843587414,
          0.0008543404295214309,
          0.00037323570525787806,
          0.0002919494035969641
         ],
         "yaxis": "y"
        },
        {
         "line": {
          "color": "rgb(0,0,0)",
          "dash": "solid",
          "width": 0.5
         },
         "marker": {
          "color": "rgb(0,0,0)",
          "line": {
           "color": "rgb(0,0,0)"
          },
          "size": 6,
          "symbol": "none"
         },
         "mode": "lines",
         "name": "",
         "showlegend": false,
         "type": "scatter",
         "visibility": true,
         "x": [
          0,
          1,
          2,
          3,
          4,
          5,
          6,
          7,
          8,
          9,
          10
         ],
         "xaxis": "x",
         "y": [
          0.01,
          0.007408182206817179,
          0.005488116360940264,
          0.004065696597405992,
          0.0030119421191220214,
          0.0022313016014842983,
          0.0016529888822158657,
          0.001224564282529819,
          0.0009071795328941251,
          0.0006720551273974979,
          0.0004978706836786395
         ],
         "yaxis": "y"
        }
       ],
       "layout": {
        "height": 420,
        "hovermode": "closest",
        "margin": {
         "b": 0,
         "l": 0,
         "r": 0,
         "t": 0
        },
        "plot_bgcolor": "rgba(0,0,0,0)",
        "showlegend": false,
        "width": 560,
        "xaxis": {
         "anchor": "y",
         "autorange": false,
         "domain": [
          0.13,
          0.905
         ],
         "exponentformat": "none",
         "gridcolor": "rgba(38,38,38,0.15)",
         "gridwidth": 1,
         "linecolor": "rgb(38,38,38)",
         "linewidth": 1,
         "mirror": "ticks",
         "range": [
          0,
          10
         ],
         "showgrid": false,
         "showline": true,
         "side": "bottom",
         "spikedash": "solid",
         "spikemode": "across",
         "spikesides": false,
         "spikethickness": 1,
         "tickangle": 0,
         "tickcolor": "rgb(38,38,38)",
         "tickfont": {
          "color": "rgb(38,38,38)",
          "size": 10
         },
         "ticklen": 3,
         "ticks": "inside",
         "ticktext": [
          "0",
          "2",
          "4",
          "6",
          "8",
          "10"
         ],
         "tickvals": [
          0,
          2,
          4,
          6,
          8,
          10
         ],
         "title": {
          "font": {
           "color": "rgb(0,0,0)",
           "size": 11
          },
          "text": ""
         },
         "type": "linear",
         "visible": true,
         "zeroline": false
        },
        "yaxis": {
         "anchor": "x",
         "autorange": false,
         "domain": [
          0.11,
          0.9249999999999999
         ],
         "exponentformat": "none",
         "gridcolor": "rgba(38,38,38,0.15)",
         "gridwidth": 1,
         "linecolor": "rgb(38,38,38)",
         "linewidth": 1,
         "mirror": "ticks",
         "range": [
          0,
          0.01
         ],
         "showgrid": false,
         "showline": true,
         "side": "left",
         "spikedash": "solid",
         "spikemode": "across",
         "spikesides": false,
         "spikethickness": 1,
         "tickangle": 0,
         "tickcolor": "rgb(38,38,38)",
         "tickfont": {
          "color": "rgb(38,38,38)",
          "size": 10
         },
         "ticklen": 3,
         "ticks": "inside",
         "ticktext": [
          "0",
          "0.002",
          "0.004",
          "0.006",
          "0.008",
          "0.01"
         ],
         "tickvals": [
          0,
          0.002,
          0.004,
          0.006,
          0.008,
          0.01
         ],
         "title": {
          "font": {
           "color": "rgb(0,0,0)",
           "size": 11
          },
          "text": ""
         },
         "type": "linear",
         "visible": true,
         "zeroline": false
        }
       }
      }
     },
     "metadata": {},
     "output_type": "display_data"
    }
   ],
   "source": [
    "% so to optmize it we need to first define the error function\n",
    "% this is what will get minimized\n",
    "\n",
    "% initial guess\n",
    "\n",
    "errorfunction = @(p,N,t) (log10(sum((N-p(1).*exp(-p(2)*t)).^2)));\n",
    "\n",
    "ktst=0.3; N0tst=0.01; ptst=[N0tst ktst];\n",
    "\n",
    "err=errorfunction(ptst,N,t)\n",
    "\n",
    "Ntst=firstorderdecay(t,N0tst,ktst); \n",
    "\n",
    "graphics_toolkit (\"plotly\")\n",
    "plot(t,N,'ko',t,Ntst,'k-'); \n"
   ]
  },
  {
   "cell_type": "code",
   "execution_count": 24,
   "id": "89c8ee51-1469-4d68-8834-593a8810d428",
   "metadata": {},
   "outputs": [
    {
     "name": "stdout",
     "output_type": "stream",
     "text": [
      "f(x0) = -5.1821e+00\n",
      "Iter.  1,  how = initial  , nf =   3,  f = -5.1821e+00  (0.0%)\n",
      "Iter.  2,  how = shrink,    nf =   7,  f = -5.1821e+00  (0.0%)\n",
      "Iter.  3,  how = shrink,    nf =  11,  f = -5.1821e+00  (0.0%)\n",
      "Iter.  4,  how = shrink,    nf =  15,  f = -5.1821e+00  (0.0%)\n",
      "Iter.  5,  how = shrink,    nf =  19,  f = -5.1821e+00  (0.0%)\n",
      "Iter.  6,  how = shrink,    nf =  23,  f = -5.1821e+00  (0.0%)\n",
      "Iter.  7,  how = contract,  nf =  25,  f = -5.1821e+00  (0.0%)\n",
      "Iter.  8,  how = contract,  nf =  27,  f = -5.1821e+00  (0.0%)\n",
      "Iter.  9,  how = shrink,    nf =  31,  f = -5.1821e+00  (0.0%)\n",
      "Iter. 10,  how = contract,  nf =  33,  f = -5.3135e+00  (2.5%)\n",
      "Iter. 11,  how = contract,  nf =  35,  f = -5.3200e+00  (0.1%)\n",
      "Iter. 12,  how = contract,  nf =  37,  f = -5.4718e+00  (2.9%)\n",
      "Iter. 13,  how = reflect,   nf =  38,  f = -5.4718e+00  (0.0%)\n",
      "Iter. 14,  how = contract,  nf =  40,  f = -5.4718e+00  (0.0%)\n",
      "Iter. 15,  how = reflect,   nf =  41,  f = -5.4718e+00  (0.0%)\n",
      "Iter. 16,  how = expand,    nf =  43,  f = -5.5720e+00  (1.8%)\n",
      "Iter. 17,  how = contract,  nf =  45,  f = -5.5720e+00  (0.0%)\n",
      "Iter. 18,  how = expand,    nf =  47,  f = -5.6823e+00  (2.0%)\n",
      "Iter. 19,  how = expand,    nf =  49,  f = -5.8931e+00  (3.7%)\n",
      "Iter. 20,  how = expand,    nf =  51,  f = -6.0406e+00  (2.5%)\n",
      "Iter. 21,  how = reflect,   nf =  53,  f = -6.2656e+00  (3.7%)\n",
      "Iter. 22,  how = contract,  nf =  55,  f = -6.2656e+00  (0.0%)\n",
      "Iter. 23,  how = contract,  nf =  57,  f = -6.2656e+00  (0.0%)\n",
      "Iter. 24,  how = contract,  nf =  59,  f = -6.2656e+00  (0.0%)\n",
      "Iter. 25,  how = reflect,   nf =  60,  f = -6.2656e+00  (0.0%)\n",
      "Iter. 26,  how = contract,  nf =  62,  f = -6.2674e+00  (0.0%)\n",
      "Iter. 27,  how = contract,  nf =  64,  f = -6.2678e+00  (0.0%)\n",
      "Iter. 28,  how = contract,  nf =  66,  f = -6.2731e+00  (0.1%)\n",
      "Iter. 29,  how = contract,  nf =  68,  f = -6.2731e+00  (0.0%)\n",
      "Iter. 30,  how = contract,  nf =  70,  f = -6.2733e+00  (0.0%)\n",
      "Iter. 31,  how = contract,  nf =  72,  f = -6.2734e+00  (0.0%)\n",
      "Iter. 32,  how = contract,  nf =  74,  f = -6.2736e+00  (0.0%)\n",
      "Iter. 33,  how = contract,  nf =  76,  f = -6.2736e+00  (0.0%)\n",
      "Iter. 34,  how = contract,  nf =  78,  f = -6.2736e+00  (0.0%)\n",
      "Iter. 35,  how = contract,  nf =  80,  f = -6.2736e+00  (0.0%)\n",
      "Iter. 36,  how = contract,  nf =  82,  f = -6.2736e+00  (0.0%)\n",
      "Iter. 37,  how = contract,  nf =  84,  f = -6.2736e+00  (0.0%)\n",
      "Iter. 38,  how = contract,  nf =  86,  f = -6.2736e+00  (0.0%)\n",
      "Iter. 39,  how = contract,  nf =  88,  f = -6.2736e+00  (0.0%)\n",
      "Iter. 40,  how = contract,  nf =  90,  f = -6.2736e+00  (0.0%)\n",
      "Iter. 41,  how = contract,  nf =  92,  f = -6.2736e+00  (0.0%)\n",
      "Iter. 42,  how = contract,  nf =  94,  f = -6.2736e+00  (0.0%)\n",
      "Algorithm converged.  Simplex size 7.7345e-05 <= 1.0000e-04 and step in function value 4.2556e-07 <= 1.0000e-04\n"
     ]
    },
    {
     "data": {
      "text/html": [
       "<table><tr><th><i>pbest<i></th><th>1</th><th>2</th></tr><tr><th>1</th><td>0.00976664</td><td>0.394637</td></tr></table>"
      ],
      "text/plain": [
       "pbest =    9.7666e-03   3.9464e-01\n"
      ]
     },
     "metadata": {},
     "output_type": "display_data"
    },
    {
     "data": {
      "application/vnd.plotly.v1+json": {
       "data": [
        {
         "line": {
          "color": "rgb(0,0,0)",
          "width": 0.5
         },
         "marker": {
          "color": "rgb(0,0,0)",
          "line": {
           "color": "rgb(0,0,0)"
          },
          "size": 6,
          "symbol": "circle"
         },
         "mode": "markers",
         "name": "",
         "showlegend": false,
         "type": "scatter",
         "visibility": true,
         "x": [
          0,
          1,
          2,
          3,
          4,
          5,
          6,
          7,
          8,
          9,
          10
         ],
         "xaxis": "x",
         "y": [
          0.009745939370855038,
          0.006791152189068294,
          0.004232243904679868,
          0.0028078350403187907,
          0.001927189058071229,
          0.0016888614720237303,
          0.000627693789900057,
          0.0006646899843587414,
          0.0008543404295214309,
          0.00037323570525787806,
          0.0002919494035969641
         ],
         "yaxis": "y"
        },
        {
         "line": {
          "color": "rgb(0,0,255)",
          "dash": "solid",
          "width": 0.5
         },
         "marker": {
          "color": "rgb(0,0,255)",
          "line": {
           "color": "rgb(0,0,255)"
          },
          "size": 6,
          "symbol": "none"
         },
         "mode": "lines",
         "name": "",
         "showlegend": false,
         "type": "scatter",
         "visibility": true,
         "x": [
          0,
          1,
          2,
          3,
          4,
          5,
          6,
          7,
          8,
          9,
          10
         ],
         "xaxis": "x",
         "y": [
          0.009766640086363302,
          0.0065819815886115065,
          0.004435761044712807,
          0.0029893696572831606,
          0.0020146105387116994,
          0.0013576961326278018,
          0.0009149851810719037,
          0.0006166312634041312,
          0.0004155631401176699,
          0.000280058332545617,
          0.00018873827357744621
         ],
         "yaxis": "y"
        }
       ],
       "layout": {
        "height": 420,
        "hovermode": "closest",
        "margin": {
         "b": 0,
         "l": 0,
         "r": 0,
         "t": 0
        },
        "plot_bgcolor": "rgba(0,0,0,0)",
        "showlegend": false,
        "width": 560,
        "xaxis": {
         "anchor": "y",
         "autorange": false,
         "domain": [
          0.13,
          0.905
         ],
         "exponentformat": "none",
         "gridcolor": "rgba(38,38,38,0.15)",
         "gridwidth": 1,
         "linecolor": "rgb(38,38,38)",
         "linewidth": 1,
         "mirror": "ticks",
         "range": [
          0,
          10
         ],
         "showgrid": false,
         "showline": true,
         "side": "bottom",
         "spikedash": "solid",
         "spikemode": "across",
         "spikesides": false,
         "spikethickness": 1,
         "tickangle": 0,
         "tickcolor": "rgb(38,38,38)",
         "tickfont": {
          "color": "rgb(38,38,38)",
          "size": 10
         },
         "ticklen": 3,
         "ticks": "inside",
         "ticktext": [
          "0",
          "2",
          "4",
          "6",
          "8",
          "10"
         ],
         "tickvals": [
          0,
          2,
          4,
          6,
          8,
          10
         ],
         "title": {
          "font": {
           "color": "rgb(0,0,0)",
           "size": 11
          },
          "text": ""
         },
         "type": "linear",
         "visible": true,
         "zeroline": false
        },
        "yaxis": {
         "anchor": "x",
         "autorange": false,
         "domain": [
          0.11,
          0.9249999999999999
         ],
         "exponentformat": "none",
         "gridcolor": "rgba(38,38,38,0.15)",
         "gridwidth": 1,
         "linecolor": "rgb(38,38,38)",
         "linewidth": 1,
         "mirror": "ticks",
         "range": [
          0,
          0.01
         ],
         "showgrid": false,
         "showline": true,
         "side": "left",
         "spikedash": "solid",
         "spikemode": "across",
         "spikesides": false,
         "spikethickness": 1,
         "tickangle": 0,
         "tickcolor": "rgb(38,38,38)",
         "tickfont": {
          "color": "rgb(38,38,38)",
          "size": 10
         },
         "ticklen": 3,
         "ticks": "inside",
         "ticktext": [
          "0",
          "0.002",
          "0.004",
          "0.006",
          "0.008",
          "0.01"
         ],
         "tickvals": [
          0,
          0.002,
          0.004,
          0.006,
          0.008,
          0.01
         ],
         "title": {
          "font": {
           "color": "rgb(0,0,0)",
           "size": 11
          },
          "text": ""
         },
         "type": "linear",
         "visible": true,
         "zeroline": false
        }
       }
      }
     },
     "metadata": {},
     "output_type": "display_data"
    }
   ],
   "source": [
    "% now best fit\n",
    "\n",
    "options = optimset('Display','iter','TolFun',1e-4,'TolX',1e-4);\n",
    "\n",
    "pbest=fminsearch(@(p) errorfunction(p,N,t),ptst,options)\n",
    "\n",
    "Nbst=firstorderdecay(t,pbest(1),pbest(2)); \n",
    "\n",
    "plot(t,N,'ko',t,Nbst,'b-')\n",
    "\n"
   ]
  },
  {
   "cell_type": "code",
   "execution_count": 32,
   "id": "8c9f8080-e5c7-4d22-8ba4-0833ddd40ba6",
   "metadata": {},
   "outputs": [
    {
     "ename": "Execution exception",
     "evalue": "'Nbst' undefined near line 3, column 10",
     "output_type": "error",
     "traceback": [
      "Execution exception: 'Nbst' undefined near line 3, column 10",
      "error: called from\n    cell[32] at line 3 column 1\n"
     ]
    }
   ],
   "source": [
    "% plot the residuals\n",
    "\n",
    "plot(t,N-Nbst,'ko',t,zeros(size(N)),'k-')"
   ]
  },
  {
   "cell_type": "markdown",
   "id": "6dab8d0f-c149-445b-9464-96af38b91766",
   "metadata": {},
   "source": [
    "### now monte carlo analysis for parameter uncertainty estimation\n",
    "\n",
    "to estimate uncertainty in the parameters just simulate 1000 datasets and fit them all.  Like we did in Lecture 3 (but we did it with a linear example that time to illustrate the method)"
   ]
  },
  {
   "cell_type": "code",
   "execution_count": 26,
   "id": "d91b430a-2a4f-4723-b83a-820cbdac2889",
   "metadata": {},
   "outputs": [
    {
     "data": {
      "application/vnd.plotly.v1+json": {
       "data": [
        {
         "line": {
          "color": "rgb(0,0,0)",
          "width": 0.5
         },
         "marker": {
          "color": "rgb(0,0,0)",
          "line": {
           "color": "rgb(0,0,0)"
          },
          "size": 6,
          "symbol": "circle"
         },
         "mode": "markers",
         "name": "",
         "showlegend": false,
         "type": "scatter",
         "visibility": true,
         "x": [
          0,
          1,
          2,
          3,
          4,
          5,
          6,
          7,
          8,
          9,
          10
         ],
         "xaxis": "x",
         "y": [
          0.009745939370855038,
          0.006791152189068294,
          0.004232243904679868,
          0.0028078350403187907,
          0.001927189058071229,
          0.0016888614720237303,
          0.000627693789900057,
          0.0006646899843587414,
          0.0008543404295214309,
          0.00037323570525787806,
          0.0002919494035969641
         ],
         "yaxis": "y"
        },
        {
         "line": {
          "color": "rgb(0,0,0)",
          "width": 0.5
         },
         "marker": {
          "color": "rgb(0,0,0)",
          "line": {
           "color": "rgb(0,0,0)"
          },
          "size": 6,
          "symbol": "circle"
         },
         "mode": "markers",
         "name": "",
         "showlegend": false,
         "type": "scatter",
         "visibility": true,
         "x": [
          0,
          1,
          2,
          3,
          4,
          5,
          6,
          7,
          8,
          9,
          10
         ],
         "xaxis": "x",
         "y": [
          0.009861126502493482,
          0.006407128355453418,
          0.004152278624036765,
          0.0031696482733983102,
          0.0020146105387116994,
          0.0013576961326278018,
          0.0009149851810719037,
          0.0009427760078912469,
          0.00015201452244182479,
          0.000280058332545617,
          0.00018873827357744621
         ],
         "yaxis": "y"
        }
       ],
       "layout": {
        "height": 420,
        "hovermode": "closest",
        "margin": {
         "b": 0,
         "l": 0,
         "r": 0,
         "t": 0
        },
        "plot_bgcolor": "rgba(0,0,0,0)",
        "showlegend": false,
        "width": 560,
        "xaxis": {
         "anchor": "y",
         "autorange": false,
         "domain": [
          0.13,
          0.905
         ],
         "exponentformat": "none",
         "gridcolor": "rgba(38,38,38,0.15)",
         "gridwidth": 1,
         "linecolor": "rgb(38,38,38)",
         "linewidth": 1,
         "mirror": "ticks",
         "range": [
          0,
          10
         ],
         "showgrid": false,
         "showline": true,
         "side": "bottom",
         "spikedash": "solid",
         "spikemode": "across",
         "spikesides": false,
         "spikethickness": 1,
         "tickangle": 0,
         "tickcolor": "rgb(38,38,38)",
         "tickfont": {
          "color": "rgb(38,38,38)",
          "size": 10
         },
         "ticklen": 3,
         "ticks": "inside",
         "ticktext": [
          "0",
          "2",
          "4",
          "6",
          "8",
          "10"
         ],
         "tickvals": [
          0,
          2,
          4,
          6,
          8,
          10
         ],
         "title": {
          "font": {
           "color": "rgb(0,0,0)",
           "size": 11
          },
          "text": ""
         },
         "type": "linear",
         "visible": true,
         "zeroline": false
        },
        "yaxis": {
         "anchor": "x",
         "autorange": false,
         "domain": [
          0.11,
          0.9249999999999999
         ],
         "exponentformat": "none",
         "gridcolor": "rgba(38,38,38,0.15)",
         "gridwidth": 1,
         "linecolor": "rgb(38,38,38)",
         "linewidth": 1,
         "mirror": "ticks",
         "range": [
          0,
          0.01
         ],
         "showgrid": false,
         "showline": true,
         "side": "left",
         "spikedash": "solid",
         "spikemode": "across",
         "spikesides": false,
         "spikethickness": 1,
         "tickangle": 0,
         "tickcolor": "rgb(38,38,38)",
         "tickfont": {
          "color": "rgb(38,38,38)",
          "size": 10
         },
         "ticklen": 3,
         "ticks": "inside",
         "ticktext": [
          "0",
          "0.002",
          "0.004",
          "0.006",
          "0.008",
          "0.01"
         ],
         "tickvals": [
          0,
          0.002,
          0.004,
          0.006,
          0.008,
          0.01
         ],
         "title": {
          "font": {
           "color": "rgb(0,0,0)",
           "size": 11
          },
          "text": ""
         },
         "type": "linear",
         "visible": true,
         "zeroline": false
        }
       }
      }
     },
     "metadata": {},
     "output_type": "display_data"
    }
   ],
   "source": [
    "residuals=N-Nbst; sestimate=std(residuals);\n",
    "\n",
    "% need to make simulated dataset\n",
    "\n",
    "count = 1:length(N); % an integer vector with an entry in order per each point in the data\n",
    "\n",
    "% replacing all data seems to work better\n",
    "\n",
    "%noreplace=round(length(N)/3); % replace 1/3 of the datapoints\n",
    "noreplace=round(length(N)/2); % replace 1/2 of the datapoints\n",
    "%noreplace=round(length(N)/1); % replace all of the datapoints\n",
    "\n",
    "indexreplace = randsample(count,noreplace); % pick at random wich of the 1/3 of the points to replace.\n",
    "\n",
    "Nnew=Nbst; % initialize the simulated data just as the original data.\n",
    "\n",
    "for i=1:length(indexreplace)\n",
    "    Nnew(indexreplace(i))=Nbst(indexreplace(i))+randn(1,1)*sestimate;\n",
    "end\n",
    "\n",
    "plot(t,N,'ko',t,Nnew,'k.')\n"
   ]
  },
  {
   "cell_type": "code",
   "execution_count": 27,
   "id": "af3a210d-083f-44a9-86f5-4a5dec79ce55",
   "metadata": {},
   "outputs": [
    {
     "data": {
      "image/png": "[encoded data removed]"
     },
     "metadata": {
      "image/png": {
       "height": 420,
       "width": 560
      }
     },
     "output_type": "display_data"
    }
   ],
   "source": [
    "% monte carlo analysis\n",
    "\n",
    "%Nbst=Nnoerror; %if set that the first fit was exactly correct we get the mean value as the true values.\n",
    "\n",
    "for j=1:100\n",
    "\n",
    "    Nnew=Nbst; % initialize the simulated data just as the original data.\n",
    "\n",
    "    for i=1:length(indexreplace)\n",
    "        Nnew(indexreplace(i))=Nbst(indexreplace(i))+randn(1,1)*sestimate;\n",
    "    end\n",
    "    \n",
    "    MCbetas(:,j)=fminsearch(@(p) errorfunction(p,Nnew,t),pbest);\n",
    "    \n",
    "end\n",
    "\n",
    "MCk=MCbetas(2,:); MCN0=MCbetas(1,:);\n",
    "graphics_toolkit (\"notebook\")\n",
    "subplot(211); \n",
    "hist(MCk,10);\n",
    "\n",
    "subplot(212)\n",
    "hist(MCN0,10);\n",
    "\n",
    "\n"
   ]
  },
  {
   "cell_type": "code",
   "execution_count": null,
   "id": "7d6b9f15-db43-4267-8d31-2e8eec29ea9b",
   "metadata": {},
   "outputs": [],
   "source": []
  },
  {
   "cell_type": "markdown",
   "id": "3ce013ad-5fc3-4a98-ac84-353e9c595f22",
   "metadata": {},
   "source": [
    "# excercise 6\n",
    "\n",
    "repeat this simulation and fitting exercise for Michaelis-Menten kinetics\n",
    "\n",
    "$$v=V_{max}\\dfrac{[\\mathrm{S}]}{K_M+[\\mathrm{S}]}$$\n",
    "\n",
    "where the measured reaction rate ($v$) is a function of the subtrate concentration ($[\\mathrm{S}]$) and the two parameters, maximum rate $V_m$ and Michaelis constant ($K_M$).\n",
    "\n",
    "Let's do this for carbonic anhydrase. with CO2 as the substrate.  $K_M = 12$ mM. For bovine CA II the $V_{max}$ value is 0.839 mM/s.  (I just googled some random values).\n",
    "\n"
   ]
  },
  {
   "cell_type": "code",
   "execution_count": null,
   "id": "da26663e-2c1d-4173-b16f-9daf03e45f06",
   "metadata": {},
   "outputs": [],
   "source": []
  }
 ],
 "metadata": {
  "kernelspec": {
   "display_name": "Octave (xoctave)",
   "language": "Octave",
   "name": "xoctave"
  },
  "language_info": {
   "codemirror_mode": "octave",
   "file_extension": ".m",
   "mimetype": "text/x-octave",
   "name": "Octave",
   "nbconvert_exporter": "",
   "pygments_lexer": "octave",
   "version": "8.4.0"
  }
 },
 "nbformat": 4,
 "nbformat_minor": 5
}
