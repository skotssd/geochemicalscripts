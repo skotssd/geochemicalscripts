{
 "cells": [
  {
   "cell_type": "code",
   "execution_count": 1,
   "id": "16ba4d47-6066-48c0-af76-1f509a12c559",
   "metadata": {},
   "outputs": [],
   "source": [
    "% some housekeeping stuff\n",
    "%register_graphics_toolkit (\"gnuplot\");\n",
    "%available_graphics_toolkits ();\n",
    "%graphics_toolkit (\"gnuplot\")\n",
    "%graphics_toolkit (\"notebook\")\n",
    "graphics_toolkit (\"plotly\")\n",
    "clear\n",
    "% load packages\n",
    "warning off\n",
    "pkg load statistics\n",
    "% end of housekeeping"
   ]
  },
  {
   "cell_type": "markdown",
   "id": "725f486a",
   "metadata": {},
   "source": [
    "# Linear Regresion (reminder)\n",
    "\n",
    " - linear models have the form\n",
    " \n",
    " $$ y= \\beta_1 X_1 + \\beta_2 X_2 + ... + \\beta_n X_n$$\n",
    " \n",
    " - it is linear in the parameters (not necessarily in $X$)  \n",
    " - X can be transformation of the independent variable ($x$).  We did an example of $x^2$, but could be $\\sin(x)$ or $\\log(x)$ or whatever.  ($X$ can't be a function of $x$ and $y$ though, the only variable term in the expression for each $X$ must be $x$)\n",
    " - nonlinear models are everthing else\n",
    " - let's do an example with the first order decay equation\n",
    " \n",
    " $$ N = N_0 e^{-kt} $$\n",
    " \n",
    "  - let's assume an initial concentration of 0.01 M and a rate constant of 0.4 s$^{-1}$"
   ]
  },
  {
   "cell_type": "code",
   "execution_count": 2,
   "id": "edc3e534",
   "metadata": {},
   "outputs": [
    {
     "data": {
      "application/vnd.plotly.v1+json": {
       "data": [
        {
         "line": {
          "color": "rgb(0,0,0)",
          "width": 0.5
         },
         "marker": {
          "color": "rgb(0,0,0)",
          "line": {
           "color": "rgb(0,0,0)"
          },
          "size": 6,
          "symbol": "circle"
         },
         "mode": "markers",
         "name": "",
         "showlegend": false,
         "type": "scatter",
         "visibility": true,
         "x": [
          0,
          1,
          2,
          3,
          4,
          5,
          6,
          7,
          8,
          9,
          10
         ],
         "xaxis": "x",
         "y": [
          0.010237647171418346,
          0.0065814151108405375,
          0.0043279333216639125,
          0.0030802375444012623,
          0.0020573080087643576,
          0.0011734850286992218,
          0.0007524849815021371,
          0.0006062533943247471,
          -2.4480400912442035e-05,
          0.0005389167500662912,
          0.00021415495805703001
         ],
         "yaxis": "y"
        },
        {
         "line": {
          "color": "rgb(0,0,0)",
          "dash": "solid",
          "width": 0.5
         },
         "marker": {
          "color": "rgb(0,0,0)",
          "line": {
           "color": "rgb(0,0,0)"
          },
          "size": 6,
          "symbol": "none"
         },
         "mode": "lines",
         "name": "",
         "showlegend": false,
         "type": "scatter",
         "visibility": true,
         "x": [
          0,
          1,
          2,
          3,
          4,
          5,
          6,
          7,
          8,
          9,
          10
         ],
         "xaxis": "x",
         "y": [
          0.01,
          0.006703200460356393,
          0.004493289641172216,
          0.0030119421191220205,
          0.002018965179946554,
          0.0013533528323661271,
          0.0009071795328941247,
          0.0006081006262521795,
          0.0004076220397836621,
          0.0002732372244729256,
          0.00018315638888734178
         ],
         "yaxis": "y"
        }
       ],
       "layout": {
        "height": 420,
        "hovermode": "closest",
        "margin": {
         "b": 0,
         "l": 0,
         "r": 0,
         "t": 0
        },
        "plot_bgcolor": "rgba(0,0,0,0)",
        "showlegend": false,
        "width": 560,
        "xaxis": {
         "anchor": "y",
         "autorange": false,
         "domain": [
          0.13,
          0.905
         ],
         "exponentformat": "none",
         "gridcolor": "rgba(38,38,38,0.15)",
         "gridwidth": 1,
         "linecolor": "rgb(38,38,38)",
         "linewidth": 1,
         "mirror": "ticks",
         "range": [
          0,
          10
         ],
         "showgrid": false,
         "showline": true,
         "side": "bottom",
         "spikedash": "solid",
         "spikemode": "across",
         "spikesides": false,
         "spikethickness": 1,
         "tickangle": 0,
         "tickcolor": "rgb(38,38,38)",
         "tickfont": {
          "color": "rgb(38,38,38)",
          "size": 10
         },
         "ticklen": 3,
         "ticks": "inside",
         "ticktext": [
          "0",
          "2",
          "4",
          "6",
          "8",
          "10"
         ],
         "tickvals": [
          0,
          2,
          4,
          6,
          8,
          10
         ],
         "title": {
          "font": {
           "color": "rgb(38,38,38)",
           "size": 11
          },
          "text": "time"
         },
         "type": "linear",
         "visible": true,
         "zeroline": false
        },
        "yaxis": {
         "anchor": "x",
         "autorange": false,
         "domain": [
          0.11,
          0.9249999999999999
         ],
         "exponentformat": "none",
         "gridcolor": "rgba(38,38,38,0.15)",
         "gridwidth": 1,
         "linecolor": "rgb(38,38,38)",
         "linewidth": 1,
         "mirror": "ticks",
         "range": [
          -0.002,
          0.012
         ],
         "showgrid": false,
         "showline": true,
         "side": "left",
         "spikedash": "solid",
         "spikemode": "across",
         "spikesides": false,
         "spikethickness": 1,
         "tickangle": 0,
         "tickcolor": "rgb(38,38,38)",
         "tickfont": {
          "color": "rgb(38,38,38)",
          "size": 10
         },
         "ticklen": 3,
         "ticks": "inside",
         "ticktext": [
          "-0.002",
          "0",
          "0.002",
          "0.004",
          "0.006",
          "0.008",
          "0.01",
          "0.012"
         ],
         "tickvals": [
          -0.002,
          0,
          0.002,
          0.004,
          0.006,
          0.008,
          0.01,
          0.012
         ],
         "title": {
          "font": {
           "color": "rgb(38,38,38)",
           "size": 11
          },
          "text": "Signal"
         },
         "type": "linear",
         "visible": true,
         "zeroline": false
        }
       }
      }
     },
     "metadata": {},
     "output_type": "display_data"
    }
   ],
   "source": [
    "%plot -s 600,600 -f 'svg'\n",
    "\n",
    "% define the variables and constants\n",
    "N0=0.01; k=0.4; t=0:1:10;\n",
    "\n",
    "% define the function.  remember the anonymous function from Lecture 1?\n",
    "firstorderdecay = @(t,N0,k) (N0.*exp(-k*t));\n",
    "\n",
    "%calculate N as a function of time\n",
    "N=firstorderdecay(t,N0,k); Nnoerror=N;\n",
    "\n",
    "%plot it\n",
    "plot(t,N,'ko')\n",
    "\n",
    "%let's add some noise\n",
    "err=0.02*max(N);\n",
    "N=N+err*randn(1,length(N));\n",
    "\n",
    "%plot with error\n",
    "plot(t,N,'ko',t,Nnoerror,'k-')\n",
    "xlabel('time'); ylabel('Signal')\n"
   ]
  },
  {
   "cell_type": "markdown",
   "id": "0155c95b-fd0c-4f6c-ac3d-754a56b29f3d",
   "metadata": {},
   "source": [
    "### nonlinear optimization in matlab/octave\n",
    "\n",
    " - fundamentally nonlinear regression is searching for the minimum to the error furnction, defind as the sum of squares of the error\n",
    " - fminsearch is the command in Octave and Matlab to do this.  you will see an example below.\n",
    "  - fminsearch is based on the simplex algorithm (seperate lecture if we want to \"go there\").  Simplex has the advantage of not needing a gradient calculation and will even work for discontinuous functions\n",
    "  - with optimization toolbox in Matlab (and maybe in Octave?) there are other options for this search.  Gradient methods, constrained methods, ...\n",
    "  - first let's look at the error (SSE) surface"
   ]
  },
  {
   "cell_type": "code",
   "execution_count": 3,
   "id": "b3fa4b10-b69c-4330-848b-0ab9db32b8e6",
   "metadata": {},
   "outputs": [
    {
     "data": {
      "image/png": "[encoded data removed]"
     },
     "metadata": {
      "image/png": {
       "height": 420,
       "width": 560
      }
     },
     "output_type": "display_data"
    }
   ],
   "source": [
    "%plot -s 600,600 -f 'svg'\n",
    "\n",
    "graphics_toolkit (\"notebook\")\n",
    "\n",
    "% make parameter ranges based on % of the parameter values\n",
    "% you could \"hard code\" this with specific numbers but using \n",
    "% percent let's you span a good range I think.\n",
    "\n",
    "N0range=0.01*N0:0.1*N0:2*N0;\n",
    "krange=0.01*k:0.1*k:3*k;\n",
    "\n",
    "% now a loop to calcualte the error\n",
    "\n",
    "for i=1:length(N0range)\n",
    "    for j=1:length(krange)\n",
    "        model=firstorderdecay(t,N0range(i),krange(j)); \n",
    "        SSE(j,i)=sum((model-N).^2);\n",
    "    end\n",
    "end\n",
    "\n",
    "% and contour it.  try also contour as SSE and you will see\n",
    "% how log of the error helps\n",
    "% and also look at the mesh\n",
    "\n",
    "contour(N0range,krange,log10(SSE),10)\n",
    "%mesh(N0range,krange,log10(SSE))\n",
    "xlabel('[Initial Concentration]'); ylabel('rate constant')\n"
   ]
  },
  {
   "cell_type": "code",
   "execution_count": 9,
   "id": "ca9243f0-c78d-4a4c-82b7-2f32614b193d",
   "metadata": {},
   "outputs": [
    {
     "data": {
      "image/png": "[encoded data removed]"
     },
     "metadata": {
      "image/png": {
       "height": 420,
       "width": 560
      }
     },
     "output_type": "display_data"
    }
   ],
   "source": [
    "mesh(N0range,krange,log10(SSE))\n",
    "xlabel('[Initial Concentration]'); ylabel('rate constant'); zlabel('log(SSE)')"
   ]
  },
  {
   "cell_type": "code",
   "execution_count": 4,
   "id": "13486c6c-f270-437e-9e99-3e0ee9d7f9d4",
   "metadata": {},
   "outputs": [
    {
     "data": {
      "text/plain": [
       "err = -5.1398\n"
      ]
     },
     "metadata": {},
     "output_type": "display_data"
    },
    {
     "data": {
      "application/vnd.plotly.v1+json": {
       "data": [
        {
         "line": {
          "color": "rgb(0,0,0)",
          "width": 0.5
         },
         "marker": {
          "color": "rgb(0,0,0)",
          "line": {
           "color": "rgb(0,0,0)"
          },
          "size": 6,
          "symbol": "circle"
         },
         "mode": "markers",
         "name": "",
         "showlegend": false,
         "type": "scatter",
         "visibility": true,
         "x": [
          0,
          1,
          2,
          3,
          4,
          5,
          6,
          7,
          8,
          9,
          10
         ],
         "xaxis": "x",
         "y": [
          0.010237647171418346,
          0.0065814151108405375,
          0.0043279333216639125,
          0.0030802375444012623,
          0.0020573080087643576,
          0.0011734850286992218,
          0.0007524849815021371,
          0.0006062533943247471,
          -2.4480400912442035e-05,
          0.0005389167500662912,
          0.00021415495805703001
         ],
         "yaxis": "y"
        },
        {
         "line": {
          "color": "rgb(0,0,0)",
          "dash": "solid",
          "width": 0.5
         },
         "marker": {
          "color": "rgb(0,0,0)",
          "line": {
           "color": "rgb(0,0,0)"
          },
          "size": 6,
          "symbol": "none"
         },
         "mode": "lines",
         "name": "",
         "showlegend": false,
         "type": "scatter",
         "visibility": true,
         "x": [
          0,
          1,
          2,
          3,
          4,
          5,
          6,
          7,
          8,
          9,
          10
         ],
         "xaxis": "x",
         "y": [
          0.01,
          0.007408182206817179,
          0.005488116360940264,
          0.004065696597405992,
          0.0030119421191220214,
          0.0022313016014842983,
          0.0016529888822158657,
          0.001224564282529819,
          0.0009071795328941251,
          0.0006720551273974979,
          0.0004978706836786395
         ],
         "yaxis": "y"
        }
       ],
       "layout": {
        "height": 420,
        "hovermode": "closest",
        "margin": {
         "b": 0,
         "l": 0,
         "r": 0,
         "t": 0
        },
        "plot_bgcolor": "rgba(0,0,0,0)",
        "showlegend": false,
        "width": 560,
        "xaxis": {
         "anchor": "y",
         "autorange": false,
         "domain": [
          0.13,
          0.905
         ],
         "exponentformat": "none",
         "gridcolor": "rgba(38,38,38,0.15)",
         "gridwidth": 1,
         "linecolor": "rgb(38,38,38)",
         "linewidth": 1,
         "mirror": "ticks",
         "range": [
          0,
          10
         ],
         "showgrid": false,
         "showline": true,
         "side": "bottom",
         "spikedash": "solid",
         "spikemode": "across",
         "spikesides": false,
         "spikethickness": 1,
         "tickangle": 0,
         "tickcolor": "rgb(38,38,38)",
         "tickfont": {
          "color": "rgb(38,38,38)",
          "size": 10
         },
         "ticklen": 3,
         "ticks": "inside",
         "ticktext": [
          "0",
          "2",
          "4",
          "6",
          "8",
          "10"
         ],
         "tickvals": [
          0,
          2,
          4,
          6,
          8,
          10
         ],
         "title": {
          "font": {
           "color": "rgb(38,38,38)",
           "size": 11
          },
          "text": "time"
         },
         "type": "linear",
         "visible": true,
         "zeroline": false
        },
        "yaxis": {
         "anchor": "x",
         "autorange": false,
         "domain": [
          0.11,
          0.9249999999999999
         ],
         "exponentformat": "none",
         "gridcolor": "rgba(38,38,38,0.15)",
         "gridwidth": 1,
         "linecolor": "rgb(38,38,38)",
         "linewidth": 1,
         "mirror": "ticks",
         "range": [
          -0.002,
          0.012
         ],
         "showgrid": false,
         "showline": true,
         "side": "left",
         "spikedash": "solid",
         "spikemode": "across",
         "spikesides": false,
         "spikethickness": 1,
         "tickangle": 0,
         "tickcolor": "rgb(38,38,38)",
         "tickfont": {
          "color": "rgb(38,38,38)",
          "size": 10
         },
         "ticklen": 3,
         "ticks": "inside",
         "ticktext": [
          "-0.002",
          "0",
          "0.002",
          "0.004",
          "0.006",
          "0.008",
          "0.01",
          "0.012"
         ],
         "tickvals": [
          -0.002,
          0,
          0.002,
          0.004,
          0.006,
          0.008,
          0.01,
          0.012
         ],
         "title": {
          "font": {
           "color": "rgb(38,38,38)",
           "size": 11
          },
          "text": "Signal"
         },
         "type": "linear",
         "visible": true,
         "zeroline": false
        }
       }
      }
     },
     "metadata": {},
     "output_type": "display_data"
    }
   ],
   "source": [
    "% so to optmize it we need to first define the error function\n",
    "% this is what will get minimized\n",
    "\n",
    "graphics_toolkit (\"plotly\")\n",
    "\n",
    "% initial guess\n",
    "\n",
    "errorfunction = @(p,N,t) (log10(sum((N-p(1).*exp(-p(2)*t)).^2)));\n",
    "\n",
    "ktst=0.3; N0tst=0.01; ptst=[N0tst ktst];\n",
    "\n",
    "err=errorfunction(ptst,N,t)\n",
    "\n",
    "Ntst=firstorderdecay(t,N0tst,ktst); \n",
    "\n",
    "plot(t,N,'ko',t,Ntst,'k-'); \n",
    "xlabel('time'); ylabel('Signal')\n"
   ]
  },
  {
   "cell_type": "code",
   "execution_count": 5,
   "id": "89c8ee51-1469-4d68-8834-593a8810d428",
   "metadata": {},
   "outputs": [
    {
     "name": "stdout",
     "output_type": "stream",
     "text": [
      "f(x0) = -5.1398e+00\n",
      "Iter.  1,  how = initial  , nf =   3,  f = -5.1398e+00  (0.0%)\n",
      "Iter.  2,  how = shrink,    nf =   7,  f = -5.1398e+00  (0.0%)\n",
      "Iter.  3,  how = shrink,    nf =  11,  f = -5.1398e+00  (0.0%)\n",
      "Iter.  4,  how = shrink,    nf =  15,  f = -5.1398e+00  (0.0%)\n",
      "Iter.  5,  how = shrink,    nf =  19,  f = -5.1398e+00  (0.0%)\n",
      "Iter.  6,  how = shrink,    nf =  23,  f = -5.1398e+00  (0.0%)\n",
      "Iter.  7,  how = contract,  nf =  25,  f = -5.1398e+00  (0.0%)\n",
      "Iter.  8,  how = contract,  nf =  27,  f = -5.1398e+00  (0.0%)\n",
      "Iter.  9,  how = shrink,    nf =  31,  f = -5.1398e+00  (0.0%)\n",
      "Iter. 10,  how = contract,  nf =  33,  f = -5.1584e+00  (0.4%)\n",
      "Iter. 11,  how = contract,  nf =  35,  f = -5.2205e+00  (1.2%)\n",
      "Iter. 12,  how = contract,  nf =  37,  f = -5.2973e+00  (1.5%)\n",
      "Iter. 13,  how = contract,  nf =  39,  f = -5.3191e+00  (0.4%)\n",
      "Iter. 14,  how = contract,  nf =  41,  f = -5.3675e+00  (0.9%)\n",
      "Iter. 15,  how = reflect,   nf =  42,  f = -5.3675e+00  (0.0%)\n",
      "Iter. 16,  how = contract,  nf =  44,  f = -5.3675e+00  (0.0%)\n",
      "Iter. 17,  how = reflect,   nf =  45,  f = -5.3675e+00  (0.0%)\n",
      "Iter. 18,  how = expand,    nf =  47,  f = -5.4071e+00  (0.7%)\n",
      "Iter. 19,  how = contract,  nf =  49,  f = -5.4071e+00  (0.0%)\n",
      "Iter. 20,  how = reflect,   nf =  51,  f = -5.4096e+00  (0.0%)\n",
      "Iter. 21,  how = expand,    nf =  53,  f = -5.4680e+00  (1.1%)\n",
      "Iter. 22,  how = reflect,   nf =  54,  f = -5.4680e+00  (0.0%)\n",
      "Iter. 23,  how = expand,    nf =  56,  f = -5.5825e+00  (2.1%)\n",
      "Iter. 24,  how = reflect,   nf =  57,  f = -5.5825e+00  (0.0%)\n",
      "Iter. 25,  how = expand,    nf =  59,  f = -5.8607e+00  (5.0%)\n",
      "Iter. 26,  how = reflect,   nf =  60,  f = -5.8607e+00  (0.0%)\n",
      "Iter. 27,  how = expand,    nf =  62,  f = -6.4466e+00  (10.0%)\n",
      "Iter. 28,  how = reflect,   nf =  63,  f = -6.4466e+00  (0.0%)\n",
      "Iter. 29,  how = shrink,    nf =  67,  f = -6.4466e+00  (0.0%)\n",
      "Iter. 30,  how = contract,  nf =  69,  f = -6.4466e+00  (0.0%)\n",
      "Iter. 31,  how = reflect,   nf =  71,  f = -6.4652e+00  (0.3%)\n",
      "Iter. 32,  how = contract,  nf =  73,  f = -6.4652e+00  (0.0%)\n",
      "Iter. 33,  how = contract,  nf =  75,  f = -6.4693e+00  (0.1%)\n",
      "Iter. 34,  how = contract,  nf =  77,  f = -6.4739e+00  (0.1%)\n",
      "Iter. 35,  how = contract,  nf =  79,  f = -6.4739e+00  (0.0%)\n",
      "Iter. 36,  how = contract,  nf =  81,  f = -6.4739e+00  (0.0%)\n",
      "Iter. 37,  how = reflect,   nf =  82,  f = -6.4739e+00  (0.0%)\n",
      "Iter. 38,  how = contract,  nf =  84,  f = -6.4739e+00  (0.0%)\n",
      "Iter. 39,  how = contract,  nf =  86,  f = -6.4740e+00  (0.0%)\n",
      "Iter. 40,  how = contract,  nf =  88,  f = -6.4740e+00  (0.0%)\n",
      "Iter. 41,  how = contract,  nf =  90,  f = -6.4740e+00  (0.0%)\n",
      "Iter. 42,  how = contract,  nf =  92,  f = -6.4741e+00  (0.0%)\n",
      "Iter. 43,  how = reflect,   nf =  93,  f = -6.4741e+00  (0.0%)\n",
      "Iter. 44,  how = contract,  nf =  95,  f = -6.4741e+00  (0.0%)\n",
      "Iter. 45,  how = shrink,    nf =  99,  f = -6.4741e+00  (0.0%)\n",
      "Iter. 46,  how = contract,  nf = 101,  f = -6.4741e+00  (0.0%)\n",
      "Iter. 47,  how = contract,  nf = 103,  f = -6.4741e+00  (0.0%)\n",
      "Algorithm converged.  Simplex size 8.8491e-05 <= 1.0000e-04 and step in function value 1.5519e-06 <= 1.0000e-04\n"
     ]
    },
    {
     "data": {
      "text/html": [
       "<table><tr><th><i>pbest<i></th><th>1</th><th>2</th></tr><tr><th>1</th><td>0.0101788</td><td>0.417871</td></tr></table>"
      ],
      "text/plain": [
       "pbest =    0.010179   0.417871\n"
      ]
     },
     "metadata": {},
     "output_type": "display_data"
    },
    {
     "data": {
      "application/vnd.plotly.v1+json": {
       "data": [
        {
         "line": {
          "color": "rgb(0,0,0)",
          "width": 0.5
         },
         "marker": {
          "color": "rgb(0,0,0)",
          "line": {
           "color": "rgb(0,0,0)"
          },
          "size": 6,
          "symbol": "circle"
         },
         "mode": "markers",
         "name": "",
         "showlegend": false,
         "type": "scatter",
         "visibility": true,
         "x": [
          0,
          1,
          2,
          3,
          4,
          5,
          6,
          7,
          8,
          9,
          10
         ],
         "xaxis": "x",
         "y": [
          0.010237647171418346,
          0.0065814151108405375,
          0.0043279333216639125,
          0.0030802375444012623,
          0.0020573080087643576,
          0.0011734850286992218,
          0.0007524849815021371,
          0.0006062533943247471,
          -2.4480400912442035e-05,
          0.0005389167500662912,
          0.00021415495805703001
         ],
         "yaxis": "y"
        },
        {
         "line": {
          "color": "rgb(0,0,255)",
          "dash": "solid",
          "width": 0.5
         },
         "marker": {
          "color": "rgb(0,0,255)",
          "line": {
           "color": "rgb(0,0,255)"
          },
          "size": 6,
          "symbol": "none"
         },
         "mode": "lines",
         "name": "",
         "showlegend": false,
         "type": "scatter",
         "visibility": true,
         "x": [
          0,
          1,
          2,
          3,
          4,
          5,
          6,
          7,
          8,
          9,
          10
         ],
         "xaxis": "x",
         "y": [
          0.010178822210505544,
          0.006702218584328796,
          0.004413058114499801,
          0.0029057664528413622,
          0.0019132942416316442,
          0.00125980353702592,
          0.0008295143095970153,
          0.0005461915049473746,
          0.0003596383529798381,
          0.00023680292308191878,
          0.0001559222588901268
         ],
         "yaxis": "y"
        }
       ],
       "layout": {
        "height": 420,
        "hovermode": "closest",
        "margin": {
         "b": 0,
         "l": 0,
         "r": 0,
         "t": 0
        },
        "plot_bgcolor": "rgba(0,0,0,0)",
        "showlegend": false,
        "width": 560,
        "xaxis": {
         "anchor": "y",
         "autorange": false,
         "domain": [
          0.13,
          0.905
         ],
         "exponentformat": "none",
         "gridcolor": "rgba(38,38,38,0.15)",
         "gridwidth": 1,
         "linecolor": "rgb(38,38,38)",
         "linewidth": 1,
         "mirror": "ticks",
         "range": [
          0,
          10
         ],
         "showgrid": false,
         "showline": true,
         "side": "bottom",
         "spikedash": "solid",
         "spikemode": "across",
         "spikesides": false,
         "spikethickness": 1,
         "tickangle": 0,
         "tickcolor": "rgb(38,38,38)",
         "tickfont": {
          "color": "rgb(38,38,38)",
          "size": 10
         },
         "ticklen": 3,
         "ticks": "inside",
         "ticktext": [
          "0",
          "2",
          "4",
          "6",
          "8",
          "10"
         ],
         "tickvals": [
          0,
          2,
          4,
          6,
          8,
          10
         ],
         "title": {
          "font": {
           "color": "rgb(38,38,38)",
           "size": 11
          },
          "text": "time"
         },
         "type": "linear",
         "visible": true,
         "zeroline": false
        },
        "yaxis": {
         "anchor": "x",
         "autorange": false,
         "domain": [
          0.11,
          0.9249999999999999
         ],
         "exponentformat": "none",
         "gridcolor": "rgba(38,38,38,0.15)",
         "gridwidth": 1,
         "linecolor": "rgb(38,38,38)",
         "linewidth": 1,
         "mirror": "ticks",
         "range": [
          -0.002,
          0.012
         ],
         "showgrid": false,
         "showline": true,
         "side": "left",
         "spikedash": "solid",
         "spikemode": "across",
         "spikesides": false,
         "spikethickness": 1,
         "tickangle": 0,
         "tickcolor": "rgb(38,38,38)",
         "tickfont": {
          "color": "rgb(38,38,38)",
          "size": 10
         },
         "ticklen": 3,
         "ticks": "inside",
         "ticktext": [
          "-0.002",
          "0",
          "0.002",
          "0.004",
          "0.006",
          "0.008",
          "0.01",
          "0.012"
         ],
         "tickvals": [
          -0.002,
          0,
          0.002,
          0.004,
          0.006,
          0.008,
          0.01,
          0.012
         ],
         "title": {
          "font": {
           "color": "rgb(38,38,38)",
           "size": 11
          },
          "text": "Signal"
         },
         "type": "linear",
         "visible": true,
         "zeroline": false
        }
       }
      }
     },
     "metadata": {},
     "output_type": "display_data"
    }
   ],
   "source": [
    "% now best fit\n",
    "\n",
    "options = optimset('Display','iter','TolFun',1e-4,'TolX',1e-4);\n",
    "\n",
    "pbest=fminsearch(@(p) errorfunction(p,N,t),ptst,options)\n",
    "\n",
    "Nbst=firstorderdecay(t,pbest(1),pbest(2)); \n",
    "\n",
    "plot(t,N,'ko',t,Nbst,'b-')\n",
    "xlabel('time'); ylabel('Signal')\n",
    "\n"
   ]
  },
  {
   "cell_type": "code",
   "execution_count": 6,
   "id": "8c9f8080-e5c7-4d22-8ba4-0833ddd40ba6",
   "metadata": {},
   "outputs": [
    {
     "data": {
      "application/vnd.plotly.v1+json": {
       "data": [
        {
         "line": {
          "color": "rgb(0,0,0)",
          "width": 0.5
         },
         "marker": {
          "color": "rgb(0,0,0)",
          "line": {
           "color": "rgb(0,0,0)"
          },
          "size": 6,
          "symbol": "circle"
         },
         "mode": "markers",
         "name": "",
         "showlegend": false,
         "type": "scatter",
         "visibility": true,
         "x": [
          0,
          1,
          2,
          3,
          4,
          5,
          6,
          7,
          8,
          9,
          10
         ],
         "xaxis": "x",
         "y": [
          5.882496091280144e-05,
          -0.0001208034734882582,
          -8.512479283588874e-05,
          0.00017447109155990011,
          0.00014401376713271338,
          -8.631850832669817e-05,
          -7.702932809487814e-05,
          6.0061889377372455e-05,
          -0.0003841187538922801,
          0.0003021138269843724,
          5.8232699166903214e-05
         ],
         "yaxis": "y"
        },
        {
         "line": {
          "color": "rgb(0,0,0)",
          "dash": "solid",
          "width": 0.5
         },
         "marker": {
          "color": "rgb(0,0,0)",
          "line": {
           "color": "rgb(0,0,0)"
          },
          "size": 6,
          "symbol": "none"
         },
         "mode": "lines",
         "name": "",
         "showlegend": false,
         "type": "scatter",
         "visibility": true,
         "x": [
          0,
          1,
          2,
          3,
          4,
          5,
          6,
          7,
          8,
          9,
          10
         ],
         "xaxis": "x",
         "y": [
          0,
          0,
          0,
          0,
          0,
          0,
          0,
          0,
          0,
          0,
          0
         ],
         "yaxis": "y"
        }
       ],
       "layout": {
        "height": 420,
        "hovermode": "closest",
        "margin": {
         "b": 0,
         "l": 0,
         "r": 0,
         "t": 0
        },
        "plot_bgcolor": "rgba(0,0,0,0)",
        "showlegend": false,
        "width": 560,
        "xaxis": {
         "anchor": "y",
         "autorange": false,
         "domain": [
          0.13,
          0.905
         ],
         "exponentformat": "none",
         "gridcolor": "rgba(38,38,38,0.15)",
         "gridwidth": 1,
         "linecolor": "rgb(38,38,38)",
         "linewidth": 1,
         "mirror": "ticks",
         "range": [
          0,
          10
         ],
         "showgrid": false,
         "showline": true,
         "side": "bottom",
         "spikedash": "solid",
         "spikemode": "across",
         "spikesides": false,
         "spikethickness": 1,
         "tickangle": 0,
         "tickcolor": "rgb(38,38,38)",
         "tickfont": {
          "color": "rgb(38,38,38)",
          "size": 10
         },
         "ticklen": 3,
         "ticks": "inside",
         "ticktext": [
          "0",
          "2",
          "4",
          "6",
          "8",
          "10"
         ],
         "tickvals": [
          0,
          2,
          4,
          6,
          8,
          10
         ],
         "title": {
          "font": {
           "color": "rgb(38,38,38)",
           "size": 11
          },
          "text": "time"
         },
         "type": "linear",
         "visible": true,
         "zeroline": false
        },
        "yaxis": {
         "anchor": "x",
         "autorange": false,
         "domain": [
          0.11,
          0.9249999999999999
         ],
         "exponentformat": "none",
         "gridcolor": "rgba(38,38,38,0.15)",
         "gridwidth": 1,
         "linecolor": "rgb(38,38,38)",
         "linewidth": 1,
         "mirror": "ticks",
         "range": [
          -0.0004,
          0.0004
         ],
         "showgrid": false,
         "showline": true,
         "side": "left",
         "spikedash": "solid",
         "spikemode": "across",
         "spikesides": false,
         "spikethickness": 1,
         "tickangle": 0,
         "tickcolor": "rgb(38,38,38)",
         "tickfont": {
          "color": "rgb(38,38,38)",
          "size": 10
         },
         "ticklen": 3,
         "ticks": "inside",
         "ticktext": [
          "-0.0004",
          "-0.0002",
          "0",
          "0.0002",
          "0.0004"
         ],
         "tickvals": [
          -0.0004,
          -0.0002,
          0,
          0.0002,
          0.0004
         ],
         "title": {
          "font": {
           "color": "rgb(38,38,38)",
           "size": 11
          },
          "text": "Residuals"
         },
         "type": "linear",
         "visible": true,
         "zeroline": false
        }
       }
      }
     },
     "metadata": {},
     "output_type": "display_data"
    }
   ],
   "source": [
    "% plot the residuals\n",
    "\n",
    "plot(t,N-Nbst,'ko',t,zeros(size(N)),'k-')\n",
    "xlabel('time'); ylabel('Residuals')"
   ]
  },
  {
   "cell_type": "markdown",
   "id": "6dab8d0f-c149-445b-9464-96af38b91766",
   "metadata": {},
   "source": [
    "### now monte carlo analysis for parameter uncertainty estimation\n",
    "\n",
    "to estimate uncertainty in the parameters just simulate 1000 datasets and fit them all.  Like we did in Lecture 3 (but we did it with a linear example that time to illustrate the method)"
   ]
  },
  {
   "cell_type": "code",
   "execution_count": 7,
   "id": "d91b430a-2a4f-4723-b83a-820cbdac2889",
   "metadata": {},
   "outputs": [
    {
     "data": {
      "image/png": "[encoded data removed]"
     },
     "metadata": {
      "image/png": {
       "height": 420,
       "width": 560
      }
     },
     "output_type": "display_data"
    }
   ],
   "source": [
    "residuals=N-Nbst; sestimate=std(residuals);\n",
    "\n",
    "% need to make simulated dataset\n",
    "\n",
    "count = 1:length(N); % an integer vector with an entry in order per each point in the data\n",
    "\n",
    "% replacing all data seems to work better\n",
    "\n",
    "%noreplace=round(length(N)/3); % replace 1/3 of the datapoints\n",
    "noreplace=round(length(N)/2); % replace 1/2 of the datapoints\n",
    "%noreplace=round(length(N)/1); % replace all of the datapoints\n",
    "\n",
    "indexreplace = randsample(count,noreplace); % pick at random wich of the 1/3 of the points to replace.\n",
    "\n",
    "Nnew=Nbst; % initialize the simulated data just as the original data.\n",
    "Nnew=N; % initialize the simulated data just as the original data.\n",
    "\n",
    "for i=1:length(indexreplace)\n",
    "    Nnew(indexreplace(i))=Nbst(indexreplace(i))+randn(1,1)*sestimate*3;\n",
    "end\n",
    "\n",
    "graphics_toolkit (\"notebook\")\n",
    "plot(t,N,'ko',t,Nnew,'k.')\n",
    "xlabel('time'); ylabel('Signal')\n"
   ]
  },
  {
   "cell_type": "code",
   "execution_count": 8,
   "id": "af3a210d-083f-44a9-86f5-4a5dec79ce55",
   "metadata": {},
   "outputs": [
    {
     "data": {
      "image/png": "[encoded data removed]"
     },
     "metadata": {
      "image/png": {
       "height": 420,
       "width": 560
      }
     },
     "output_type": "display_data"
    }
   ],
   "source": [
    "% monte carlo analysis\n",
    "\n",
    "graphics_toolkit (\"notebook\")\n",
    "\n",
    "%Nbst=Nnoerror; %if set that the first fit was exactly correct we get the mean value as the true values.\n",
    "\n",
    "for j=1:100\n",
    "    indexreplace = randsample(count,noreplace); % pick at random wich of the 1/3 of the points to replace\n",
    "    Nnew=N; % initialize the simulated data just as the original data.\n",
    "\n",
    "    for i=1:length(indexreplace)\n",
    "        Nnew(indexreplace(i))=Nbst(indexreplace(i))+randn(1,1)*sestimate*3;\n",
    "    end\n",
    "    \n",
    "    MCbetas(:,j)=fminsearch(@(p) errorfunction(p,Nnew,t),pbest);\n",
    "    \n",
    "end\n",
    "\n",
    "MCk=MCbetas(2,:); MCN0=MCbetas(1,:);\n",
    "\n",
    "subplot(211); \n",
    "hist(MCk,10);\n",
    "xlabel('Initial concentration')\n",
    "\n",
    "subplot(212)\n",
    "hist(MCN0,10);\n",
    "xlabel('Rate constant')\n",
    "\n",
    "\n"
   ]
  }
 ],
 "metadata": {
  "kernelspec": {
   "display_name": "Octave (xoctave)",
   "language": "Octave",
   "name": "xoctave"
  },
  "language_info": {
   "codemirror_mode": "octave",
   "file_extension": ".m",
   "mimetype": "text/x-octave",
   "name": "Octave",
   "nbconvert_exporter": "",
   "pygments_lexer": "octave",
   "version": "8.4.0"
  }
 },
 "nbformat": 4,
 "nbformat_minor": 5
}
