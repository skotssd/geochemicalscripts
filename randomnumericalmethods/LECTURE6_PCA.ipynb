{
 "cells": [
  {
   "cell_type": "code",
   "execution_count": 14,
   "id": "16ba4d47-6066-48c0-af76-1f509a12c559",
   "metadata": {
    "tags": []
   },
   "outputs": [],
   "source": [
    "% some housekeeping stuff\n",
    "%register_graphics_toolkit (\"gnuplot\");\n",
    "%available_graphics_toolkits ();\n",
    "graphics_toolkit (\"plotly\")\n",
    "clear\n",
    "% load packages\n",
    "%pkg load statistics\n",
    "\n",
    "% end of housekeeping"
   ]
  },
  {
   "cell_type": "markdown",
   "id": "725f486a",
   "metadata": {
    "tags": []
   },
   "source": [
    "# Principle Component Analysis (PCA)\n",
    "\n",
    "\n",
    "These notes are based on a tutorial written by Lisa Smith (no relation)\n",
    "\n",
    "http://www.iro.umontreal.ca/~pift6080/H09/documents/papers/pca_tutorial.pdf\n",
    "\n",
    "[local link in case the montreal link disappears](Lisa_Smith_pca_tutorial.pdf)\n",
    "\n",
    "PCA is a data reduction method.  Typically we will start with high dimentional data - too high to easily visualize the data, and all the potential relationships.  Using PCA we can \"pull out\" the principle components that explain most of the variability in the data.  In this way we can reduce a complex datasset to a less complex \"transformed\" subset of the data.  \n",
    "\n",
    "We can use this for \"typing\" to identify how different samples are similar or different from each other (again, we can't easily do this from the original data because there would be just too many dimensions).\n",
    "\n",
    "It is also possible to use it in reverse - and apply it to new data and see how that new data fits into the existing patterns of the original data.\n",
    "\n",
    "So let's use Lisa's data ... and plot it.  Then do mean subtraction of each column of data minus it's mean value.\n"
   ]
  },
  {
   "cell_type": "code",
   "execution_count": 15,
   "id": "56815ca5-d704-4bc1-bd93-00fbd3293d1d",
   "metadata": {},
   "outputs": [
    {
     "data": {
      "application/vnd.plotly.v1+json": {
       "data": [
        {
         "line": {
          "color": "rgb(0, 0, 0)",
          "width": 0.5
         },
         "marker": {
          "color": "rgb(0, 0, 0)",
          "line": {
           "color": "rgb(0, 0, 0)"
          },
          "size": 6,
          "symbol": "circle"
         },
         "mode": "markers",
         "name": "original data",
         "showlegend": true,
         "type": "scatter",
         "visibility": true,
         "x": [
          2.5,
          0.5,
          2.2,
          1.9,
          3.1,
          2.3,
          2,
          1,
          1.5,
          1.1
         ],
         "xaxis": "x",
         "y": [
          2.4,
          0.7,
          2.9,
          2.2,
          3,
          2.7,
          1.6,
          1.1,
          1.6,
          0.9
         ],
         "yaxis": "y"
        },
        {
         "line": {
          "color": "rgb(0, 0, 0)",
          "width": 0.5
         },
         "marker": {
          "color": "rgb(0, 0, 0)",
          "line": {
           "color": "rgb(0, 0, 0)"
          },
          "size": 6,
          "symbol": "circle"
         },
         "mode": "markers",
         "name": "mean subtracted data",
         "showlegend": true,
         "type": "scatter",
         "visibility": true,
         "x": [
          0.69,
          -1.31,
          0.3900000000000001,
          0.08999999999999986,
          1.29,
          0.48999999999999977,
          0.18999999999999995,
          -0.81,
          -0.31000000000000005,
          -0.71
         ],
         "xaxis": "x",
         "y": [
          0.4900000000000002,
          -1.2099999999999997,
          0.9900000000000002,
          0.2900000000000005,
          1.0900000000000003,
          0.7900000000000005,
          -0.3099999999999996,
          -0.8099999999999996,
          -0.3099999999999996,
          -1.0099999999999998
         ],
         "yaxis": "y"
        },
        {
         "line": {
          "color": "rgb(0, 0, 0)",
          "dash": "dash",
          "width": 0.5
         },
         "marker": {
          "color": "rgb(0, 0, 0)",
          "line": {
           "color": "rgb(0, 0, 0)"
          },
          "size": 6,
          "symbol": "none"
         },
         "mode": "lines",
         "name": "data1",
         "showlegend": true,
         "type": "scatter",
         "visibility": true,
         "x": [
          0,
          0
         ],
         "xaxis": "x",
         "y": [
          -2,
          4
         ],
         "yaxis": "y"
        },
        {
         "line": {
          "color": "rgb(0, 0, 0)",
          "dash": "dash",
          "width": 0.5
         },
         "marker": {
          "color": "rgb(0, 0, 0)",
          "line": {
           "color": "rgb(0, 0, 0)"
          },
          "size": 6,
          "symbol": "none"
         },
         "mode": "lines",
         "name": "data2",
         "showlegend": true,
         "type": "scatter",
         "visibility": true,
         "x": [
          -2,
          4
         ],
         "xaxis": "x",
         "y": [
          0,
          0
         ],
         "yaxis": "y"
        },
        {
         "hoverinfo": "none",
         "line": {
          "color": "rgb(0, 0, 0)",
          "width": 0.5
         },
         "marker": {
          "color": "rgb(0, 0, 0)",
          "line": {
           "color": "rgb(0, 0, 0)"
          },
          "size": 6,
          "symbol": "none"
         },
         "mode": "none",
         "name": "",
         "showlegend": false,
         "type": "scatter",
         "visibility": true,
         "x": [
          3,
          18
         ],
         "xaxis": "x2",
         "y": [
          6.745072273324567,
          6.745072273324567
         ],
         "yaxis": "y2"
        },
        {
         "hoverinfo": "none",
         "line": {
          "color": "rgb(0, 0, 0)",
          "width": 0.5
         },
         "marker": {
          "color": "rgb(0, 0, 0)",
          "line": {
           "color": "rgb(0, 0, 0)"
          },
          "size": 6,
          "symbol": "none"
         },
         "mode": "none",
         "name": "",
         "showlegend": false,
         "type": "scatter",
         "visibility": true,
         "x": [
          3,
          18
         ],
         "xaxis": "x2",
         "y": [
          16.860709592641243,
          16.860709592641243
         ],
         "yaxis": "y2"
        },
        {
         "hoverinfo": "none",
         "line": {
          "color": "rgb(0, 0, 0)",
          "dash": "dash",
          "width": 0.5
         },
         "marker": {
          "color": "rgb(0, 0, 0)",
          "line": {
           "color": "rgb(0, 0, 0)"
          },
          "size": 6,
          "symbol": "none"
         },
         "mode": "lines",
         "name": "",
         "showlegend": false,
         "type": "scatter",
         "visibility": true,
         "x": [
          3,
          18
         ],
         "xaxis": "x2",
         "y": [
          26.601839684625475,
          26.601839684625475
         ],
         "yaxis": "y2"
        },
        {
         "hoverinfo": "none",
         "line": {
          "color": "rgb(0, 0, 0)",
          "dash": "dash",
          "width": 0.5
         },
         "marker": {
          "color": "rgb(0, 0, 0)",
          "line": {
           "color": "rgb(0, 0, 0)"
          },
          "size": 6,
          "symbol": "none"
         },
         "mode": "lines",
         "name": "",
         "showlegend": false,
         "type": "scatter",
         "visibility": true,
         "x": [
          3,
          18
         ],
         "xaxis": "x2",
         "y": [
          36.342969776609706,
          36.342969776609706
         ],
         "yaxis": "y2"
        }
       ],
       "layout": {
        "annotations": [
         {
          "font": {
           "color": "rgb(0, 0, 0)",
           "size": 9
          },
          "showarrow": false,
          "text": "original data",
          "x": 21,
          "xanchor": "left",
          "xref": "x2",
          "y": 6.745072273324567,
          "yanchor": "middle",
          "yref": "y2"
         },
         {
          "font": {
           "color": "rgb(0, 0, 0)",
           "size": 9
          },
          "showarrow": false,
          "text": "mean subtracted data",
          "x": 21,
          "xanchor": "left",
          "xref": "x2",
          "y": 16.860709592641243,
          "yanchor": "middle",
          "yref": "y2"
         },
         {
          "font": {
           "color": "rgb(0, 0, 0)",
           "size": 9
          },
          "showarrow": false,
          "text": "data1",
          "x": 21,
          "xanchor": "left",
          "xref": "x2",
          "y": 26.601839684625475,
          "yanchor": "middle",
          "yref": "y2"
         },
         {
          "font": {
           "color": "rgb(0, 0, 0)",
           "size": 9
          },
          "showarrow": false,
          "text": "data2",
          "x": 21,
          "xanchor": "left",
          "xref": "x2",
          "y": 36.342969776609706,
          "yanchor": "middle",
          "yref": "y2"
         }
        ],
        "height": 420,
        "hovermode": "closest",
        "margin": {
         "b": 0,
         "l": 0,
         "r": 0,
         "t": 0
        },
        "plot_bgcolor": "rgba(0, 0, 0, 0)",
        "showlegend": false,
        "width": 560,
        "xaxis": {
         "anchor": "y",
         "autorange": false,
         "domain": [
          0.13,
          0.905
         ],
         "exponentformat": "none",
         "gridcolor": "rgba(38,38,38,0.15)",
         "gridwidth": 1,
         "linecolor": "rgb(38,38,38)",
         "linewidth": 1,
         "mirror": "ticks",
         "range": [
          -2,
          4
         ],
         "showgrid": false,
         "showline": true,
         "side": "bottom",
         "spikedash": "solid",
         "spikemode": "across",
         "spikesides": false,
         "spikethickness": 1,
         "tickangle": 0,
         "tickcolor": "rgb(38,38,38)",
         "tickfont": {
          "color": "rgb(38,38,38)",
          "size": 10
         },
         "ticklen": 3,
         "ticks": "inside",
         "ticktext": [
          "-2",
          "-1",
          "0",
          "1",
          "2",
          "3",
          "4"
         ],
         "tickvals": [
          -2,
          -1,
          0,
          1,
          2,
          3,
          4
         ],
         "title": {
          "font": {
           "color": "rgb(0, 0, 0)",
           "size": 11
          },
          "text": ""
         },
         "type": "linear",
         "visible": true,
         "zeroline": false
        },
        "xaxis2": {
         "anchor": "y2",
         "autorange": false,
         "domain": [
          0.6781203007518797,
          0.8906954887218044
         ],
         "exponentformat": "none",
         "fixedrange": true,
         "gridcolor": "rgba(38,38,38,0.15)",
         "gridwidth": 1,
         "linecolor": "rgb(38,38,38)",
         "linewidth": 1,
         "mirror": true,
         "range": [
          0,
          89.16425755584754
         ],
         "showgrid": false,
         "showline": true,
         "showspikes": false,
         "side": "bottom",
         "spikedash": "solid",
         "spikemode": "across",
         "spikesides": false,
         "spikethickness": 1,
         "tickangle": 0,
         "tickcolor": "rgb(38,38,38)",
         "tickfont": {
          "color": "rgb(38,38,38)",
          "size": 9
         },
         "ticklen": 3,
         "ticks": "",
         "ticktext": [],
         "tickvals": [],
         "title": {
          "font": {
           "color": "rgb(0, 0, 0)",
           "size": 9.9
          },
          "text": ""
         },
         "type": "linear",
         "visible": true,
         "zeroline": false
        },
        "yaxis": {
         "anchor": "x",
         "autorange": false,
         "domain": [
          0.11,
          0.925
         ],
         "exponentformat": "none",
         "gridcolor": "rgba(38,38,38,0.15)",
         "gridwidth": 1,
         "linecolor": "rgb(38,38,38)",
         "linewidth": 1,
         "mirror": "ticks",
         "range": [
          -2,
          4
         ],
         "showgrid": false,
         "showline": true,
         "side": "left",
         "spikedash": "solid",
         "spikemode": "across",
         "spikesides": false,
         "spikethickness": 1,
         "tickangle": 0,
         "tickcolor": "rgb(38,38,38)",
         "tickfont": {
          "color": "rgb(38,38,38)",
          "size": 10
         },
         "ticklen": 3,
         "ticks": "inside",
         "ticktext": [
          "-2",
          "-1",
          "0",
          "1",
          "2",
          "3",
          "4"
         ],
         "tickvals": [
          -2,
          -1,
          0,
          1,
          2,
          3,
          4
         ],
         "title": {
          "font": {
           "color": "rgb(0, 0, 0)",
           "size": 11
          },
          "text": ""
         },
         "type": "linear",
         "visible": true,
         "zeroline": false
        },
        "yaxis2": {
         "anchor": "x2",
         "autorange": false,
         "domain": [
          0.12907268170426064,
          0.26484962406015033
         ],
         "exponentformat": "none",
         "fixedrange": true,
         "gridcolor": "rgba(38,38,38,0.15)",
         "gridwidth": 1,
         "linecolor": "rgb(38,38,38)",
         "linewidth": 1,
         "mirror": true,
         "range": [
          42.713534822601815,
          0
         ],
         "showgrid": false,
         "showline": true,
         "showspikes": false,
         "side": "left",
         "spikedash": "solid",
         "spikemode": "across",
         "spikesides": false,
         "spikethickness": 1,
         "tickangle": 0,
         "tickcolor": "rgb(38,38,38)",
         "tickfont": {
          "color": "rgb(38,38,38)",
          "size": 9
         },
         "ticklen": 3,
         "ticks": "",
         "ticktext": [],
         "tickvals": [],
         "title": {
          "font": {
           "color": "rgb(0, 0, 0)",
           "size": 9.9
          },
          "text": ""
         },
         "type": "linear",
         "visible": true,
         "zeroline": false
        }
       }
      },
      "image/png": "[encoded data removed]"
     },
     "metadata": {},
     "output_type": "display_data"
    }
   ],
   "source": [
    "%plot -s 600,600 -f 'svg'\n",
    "Data =[...\n",
    "%x y\n",
    "2.5 2.4\n",
    "0.5 0.7\n",
    "2.2 2.9\n",
    "1.9 2.2\n",
    "3.1 3.0\n",
    "2.3 2.7\n",
    "2 1.6\n",
    "1 1.1\n",
    "1.5 1.6\n",
    "1.1 0.9\n",
    "];\n",
    "\n",
    "x=Data(:,1); y=Data(:,2); xbar=mean(x); ybar=mean(y);\n",
    "X=x-xbar; Y=y-ybar;\n",
    "\n",
    "plot(x,y,'ko','markerfacecolor','b',X,Y,'ko','markerfacecolor','g');\n",
    "legend('original data','mean subtracted data','location','SouthEast');\n",
    "hold on\n",
    "plot([0 0],[-2 4],'k--')\n",
    "plot([-2 4],[0 0],'k--')\n"
   ]
  },
  {
   "cell_type": "markdown",
   "id": "908f0194-da11-46e8-9c3b-98a5eae068d8",
   "metadata": {},
   "source": [
    "# calculate the covariance matrix\n",
    "\n",
    "similar to variance we can define covariance (standard deviation is the square root of the variance).  variance is for one dimension but covariance takes the other dimensions of the data into account.  here the covariance matrix will be 2$\\times$2 since there are two data vectors.\n",
    "\n",
    "$$cov(X,Y)=\\dfrac{\\sum_{i=1}^{n}(X_i-\\bar{X})(Y_i-\\bar{Y})}{(n-1)}$$"
   ]
  },
  {
   "cell_type": "code",
   "execution_count": 16,
   "id": "6f311d8d-a84c-45cb-81e2-ce26f35aa399",
   "metadata": {},
   "outputs": [
    {
     "data": {
      "text/html": [
       "<table><tr><th><i>covmatrix<i></th><th>1</th><th>2</th></tr><tr><th>1</th><td>0.616556</td><td>0.615444</td></tr><tr><th>2</th><td>0.615444</td><td>0.716556</td></tr></table>"
      ],
      "text/plain": [
       "covmatrix =    0.6166   0.6154\n",
       "   0.6154   0.7166\n"
      ]
     },
     "metadata": {},
     "output_type": "display_data"
    }
   ],
   "source": [
    "covmatrix=cov([X Y])"
   ]
  },
  {
   "cell_type": "markdown",
   "id": "7842fa81-9b22-4726-9826-e873c842ddc1",
   "metadata": {},
   "source": [
    "# determine eigenvectors and eigenvalues\n",
    "\n",
    "This is a special way to transform the matrix into orthoganol parts.  You can see from the plot of the two eigenvectors that one describes the main trend in the data, as x goes up so does y, and the other describes the second trend - the ossiclations around the first trend - like noise in our best fit excercises.  the second trend is orthoganol to the first just like we said it would be.\n",
    "\n",
    "If you look at that graph you can imagine reframming the data based on the new eigenvectors as opposed to the original cartesian coordinates.\n",
    "\n"
   ]
  },
  {
   "cell_type": "code",
   "execution_count": 17,
   "id": "f6cf132c-e036-4dc8-9565-a803fb023ee8",
   "metadata": {},
   "outputs": [
    {
     "data": {
      "text/html": [
       "<table><tr><th><i>Evalue<i></th><th>1</th></tr><tr><th>1</th><td>0.0490834</td></tr><tr><th>2</th><td>1.28403</td></tr></table>"
      ],
      "text/plain": [
       "Evalue =    0.049083\n",
       "   1.284028\n"
      ]
     },
     "metadata": {},
     "output_type": "display_data"
    },
    {
     "data": {
      "text/html": [
       "<table><tr><th><i>Evect<i></th><th>1</th><th>2</th></tr><tr><th>1</th><td>-0.735179</td><td>0.677873</td></tr><tr><th>2</th><td>0.677873</td><td>0.735179</td></tr></table>"
      ],
      "text/plain": [
       "Evect =   -0.7352   0.6779\n",
       "   0.6779   0.7352\n"
      ]
     },
     "metadata": {},
     "output_type": "display_data"
    },
    {
     "data": {
      "application/vnd.plotly.v1+json": {
       "data": [
        {
         "line": {
          "color": "rgb(0, 0, 0)",
          "width": 0.5
         },
         "marker": {
          "color": "rgb(0, 0, 0)",
          "line": {
           "color": "rgb(0, 0, 0)"
          },
          "size": 6,
          "symbol": "circle"
         },
         "mode": "markers",
         "name": "",
         "showlegend": false,
         "type": "scatter",
         "visibility": true,
         "x": [
          0.69,
          -1.31,
          0.3900000000000001,
          0.08999999999999986,
          1.29,
          0.48999999999999977,
          0.18999999999999995,
          -0.81,
          -0.31000000000000005,
          -0.71
         ],
         "xaxis": "x",
         "y": [
          0.4900000000000002,
          -1.2099999999999997,
          0.9900000000000002,
          0.2900000000000005,
          1.0900000000000003,
          0.7900000000000005,
          -0.3099999999999996,
          -0.8099999999999996,
          -0.3099999999999996,
          -1.0099999999999998
         ],
         "yaxis": "y"
        },
        {
         "line": {
          "color": "rgb(0, 0, 0)",
          "dash": "solid",
          "width": 0.5
         },
         "marker": {
          "color": "rgb(0, 0, 0)",
          "line": {
           "color": "rgb(0, 0, 0)"
          },
          "size": 6,
          "symbol": "none"
         },
         "mode": "lines",
         "name": "",
         "showlegend": false,
         "type": "scatter",
         "visibility": true,
         "x": [
          0.69,
          -1.31,
          0.3900000000000001,
          0.08999999999999986,
          1.29,
          0.48999999999999977,
          0.18999999999999995,
          -0.81,
          -0.31000000000000005,
          -0.71
         ],
         "xaxis": "x",
         "y": [
          0.6362163012444463,
          -1.2078889197539489,
          0.3596005180946872,
          0.08298473494492765,
          1.189447867543965,
          0.4518057791446066,
          0.1751899959948475,
          -0.7468626145043501,
          -0.2858363092547513,
          -0.6546573534544303
         ],
         "yaxis": "y"
        },
        {
         "line": {
          "color": "rgb(0,0,255)",
          "dash": "solid",
          "width": 0.5
         },
         "marker": {
          "color": "rgb(0,0,255)",
          "line": {
           "color": "rgb(0,0,255)"
          },
          "size": 6,
          "symbol": "none"
         },
         "mode": "lines",
         "name": "",
         "showlegend": false,
         "type": "scatter",
         "visibility": true,
         "x": [
          0.69,
          -1.31,
          0.3900000000000001,
          0.08999999999999986,
          1.29,
          0.48999999999999977,
          0.18999999999999995,
          -0.81,
          -0.31000000000000005,
          -0.71
         ],
         "xaxis": "x",
         "y": [
          -0.7483304012624998,
          1.4207432255853258,
          -0.42296935723532614,
          -0.097608313208152,
          -1.3990524893168477,
          -0.531423038577717,
          -0.2060619945505434,
          0.8784748188733694,
          0.33620641216141306,
          0.7700211375309781
         ],
         "yaxis": "y"
        },
        {
         "line": {
          "color": "rgb(0, 0, 0)",
          "dash": "dash",
          "width": 0.5
         },
         "marker": {
          "color": "rgb(0, 0, 0)",
          "line": {
           "color": "rgb(0, 0, 0)"
          },
          "size": 6,
          "symbol": "none"
         },
         "mode": "lines",
         "name": "",
         "showlegend": false,
         "type": "scatter",
         "visibility": true,
         "x": [
          0,
          0
         ],
         "xaxis": "x",
         "y": [
          -1.5,
          1.5
         ],
         "yaxis": "y"
        },
        {
         "line": {
          "color": "rgb(0, 0, 0)",
          "dash": "dash",
          "width": 0.5
         },
         "marker": {
          "color": "rgb(0, 0, 0)",
          "line": {
           "color": "rgb(0, 0, 0)"
          },
          "size": 6,
          "symbol": "none"
         },
         "mode": "lines",
         "name": "",
         "showlegend": false,
         "type": "scatter",
         "visibility": true,
         "x": [
          -1.5,
          1.5
         ],
         "xaxis": "x",
         "y": [
          0,
          0
         ],
         "yaxis": "y"
        }
       ],
       "layout": {
        "height": 420,
        "hovermode": "closest",
        "margin": {
         "b": 0,
         "l": 0,
         "r": 0,
         "t": 0
        },
        "plot_bgcolor": "rgba(0, 0, 0, 0)",
        "showlegend": false,
        "width": 560,
        "xaxis": {
         "anchor": "y",
         "autorange": false,
         "domain": [
          0.13,
          0.905
         ],
         "exponentformat": "none",
         "gridcolor": "rgba(38,38,38,0.15)",
         "gridwidth": 1,
         "linecolor": "rgb(38,38,38)",
         "linewidth": 1,
         "mirror": "ticks",
         "range": [
          -1.9018404907975464,
          1.9018404907975464
         ],
         "showgrid": false,
         "showline": true,
         "side": "bottom",
         "spikedash": "solid",
         "spikemode": "across",
         "spikesides": false,
         "spikethickness": 1,
         "tickangle": 0,
         "tickcolor": "rgb(38,38,38)",
         "tickfont": {
          "color": "rgb(38,38,38)",
          "size": 10
         },
         "ticklen": 3,
         "ticks": "inside",
         "ticktext": [
          "-1",
          "0",
          "1"
         ],
         "tickvals": [
          -1,
          0,
          1
         ],
         "title": {
          "font": {
           "color": "rgb(0, 0, 0)",
           "size": 11
          },
          "text": ""
         },
         "type": "linear",
         "visible": true,
         "zeroline": false
        },
        "yaxis": {
         "anchor": "x",
         "autorange": false,
         "domain": [
          0.11,
          0.9249999999999999
         ],
         "exponentformat": "none",
         "gridcolor": "rgba(38,38,38,0.15)",
         "gridwidth": 1,
         "linecolor": "rgb(38,38,38)",
         "linewidth": 1,
         "mirror": "ticks",
         "range": [
          -1.5000000000000002,
          1.5000000000000002
         ],
         "showgrid": false,
         "showline": true,
         "side": "left",
         "spikedash": "solid",
         "spikemode": "across",
         "spikesides": false,
         "spikethickness": 1,
         "tickangle": 0,
         "tickcolor": "rgb(38,38,38)",
         "tickfont": {
          "color": "rgb(38,38,38)",
          "size": 10
         },
         "ticklen": 3,
         "ticks": "inside",
         "ticktext": [
          "-1.5",
          "-1",
          "-0.5",
          "0",
          "0.5",
          "1",
          "1.5"
         ],
         "tickvals": [
          -1.5,
          -1,
          -0.5,
          0,
          0.5,
          1,
          1.5
         ],
         "title": {
          "font": {
           "color": "rgb(0, 0, 0)",
           "size": 11
          },
          "text": ""
         },
         "type": "linear",
         "visible": true,
         "zeroline": false
        }
       }
      },
      "image/png": "[encoded data removed]"
     },
     "metadata": {},
     "output_type": "display_data"
    }
   ],
   "source": [
    "[Evect,Evalue]=eig(covmatrix);  Evalue=diag(Evalue)\n",
    "Evect\n",
    "\n",
    "plot(X,Y,'ko','markerfacecolor','g')\n",
    "hold on\n",
    "slope1=Evect(2,1)/Evect(2,2); slope2=Evect(1,1)/Evect(2,1); \n",
    "trend1=slope1*X; trend2=slope2*X;\n",
    "plot(X,trend1,'k-',X,trend2,'b-')\n",
    "axis equal\n",
    "plot([0 0],[-1.5 1.5],'k--')\n",
    "plot([-1.5 1.5],[0 0],'k--')\n"
   ]
  },
  {
   "cell_type": "markdown",
   "id": "4c737695-2699-4cc1-a1b3-db9bd41605eb",
   "metadata": {},
   "source": [
    "# express the data in rotated \"eigenvector\" space.\n",
    "\n",
    "the data dimension can be reduced by projecting into this eigenvector space but not using all the eigenvectors.  We will use the largest eigenvectors and leave out the smaller ones.  So looking at the eigenvalues you can see that the second vector ([0.6779; 0.7351]) is the more significant one.  We can remake the data just using this.\n",
    "\n",
    "$$FeatureVector = (eig_1, eig_2, ... eig_n)$$\n",
    "\n",
    "the $FeatureVector$ is a matrix of vectors, sorted in order of largest eigenvalue to smallest - and leaving some off if we want to reduce the dimension of that data (otherwise, we'd just get the original data back).\n",
    "\n",
    "To get the PCA transformed data you take the transpose of the feature vector and multiply it by the transpose of the mean adjusted original data.\n",
    "\n",
    "$$FinalData=RowFeatureVector \\times RowDataAdjust$$\n",
    "\n",
    "This will give us back the original data only in terms of the components (PCA1, PCA2, ...) that we choose.\n",
    "\n",
    "You can see we can get back all the original info about the data but now rotated so that the main trend in the data is the new \"x-coordinate\" and the smaller trend in the data is the \"y-coordinate\".\n",
    "\n"
   ]
  },
  {
   "cell_type": "code",
   "execution_count": 18,
   "id": "86e36b5f-c081-4c43-a06e-6c89faa38aa4",
   "metadata": {},
   "outputs": [
    {
     "data": {
      "application/vnd.plotly.v1+json": {
       "data": [
        {
         "line": {
          "color": "rgb(0, 0, 0)",
          "width": 0.5
         },
         "marker": {
          "color": "rgb(0, 0, 0)",
          "line": {
           "color": "rgb(0, 0, 0)"
          },
          "size": 6,
          "symbol": "circle"
         },
         "mode": "markers",
         "name": "",
         "showlegend": false,
         "type": "scatter",
         "visibility": true,
         "x": [
          0.8279701862010882,
          -1.777580325280429,
          0.9921974944148887,
          0.27421041597539964,
          1.67580141864454,
          0.9129491031588083,
          -0.099109437498444,
          -1.1445721637986597,
          -0.43804613676244986,
          -1.2238205550547403
         ],
         "xaxis": "x",
         "y": [
          -0.17511530704691555,
          0.14285722654428043,
          0.3843749888804126,
          0.13041720657412711,
          -0.20949846125675325,
          0.1752824436203699,
          -0.34982469809712086,
          0.04641725818328125,
          0.01776462967508314,
          -0.16267528707676207
         ],
         "yaxis": "y"
        },
        {
         "line": {
          "color": "rgb(0, 0, 0)",
          "dash": "dash",
          "width": 0.5
         },
         "marker": {
          "color": "rgb(0, 0, 0)",
          "line": {
           "color": "rgb(0, 0, 0)"
          },
          "size": 6,
          "symbol": "none"
         },
         "mode": "lines",
         "name": "",
         "showlegend": false,
         "type": "scatter",
         "visibility": true,
         "x": [
          0,
          0
         ],
         "xaxis": "x",
         "y": [
          -2,
          2
         ],
         "yaxis": "y"
        },
        {
         "line": {
          "color": "rgb(0, 0, 0)",
          "dash": "dash",
          "width": 0.5
         },
         "marker": {
          "color": "rgb(0, 0, 0)",
          "line": {
           "color": "rgb(0, 0, 0)"
          },
          "size": 6,
          "symbol": "none"
         },
         "mode": "lines",
         "name": "",
         "showlegend": false,
         "type": "scatter",
         "visibility": true,
         "x": [
          -2,
          2
         ],
         "xaxis": "x",
         "y": [
          0,
          0
         ],
         "yaxis": "y"
        }
       ],
       "layout": {
        "height": 420,
        "hovermode": "closest",
        "margin": {
         "b": 0,
         "l": 0,
         "r": 0,
         "t": 0
        },
        "plot_bgcolor": "rgba(0, 0, 0, 0)",
        "showlegend": false,
        "width": 560,
        "xaxis": {
         "anchor": "y",
         "autorange": false,
         "domain": [
          0.13,
          0.905
         ],
         "exponentformat": "none",
         "gridcolor": "rgba(38,38,38,0.15)",
         "gridwidth": 1,
         "linecolor": "rgb(38,38,38)",
         "linewidth": 1,
         "mirror": "ticks",
         "range": [
          -2,
          2
         ],
         "showgrid": false,
         "showline": true,
         "side": "bottom",
         "spikedash": "solid",
         "spikemode": "across",
         "spikesides": false,
         "spikethickness": 1,
         "tickangle": 0,
         "tickcolor": "rgb(38,38,38)",
         "tickfont": {
          "color": "rgb(38,38,38)",
          "size": 10
         },
         "ticklen": 3,
         "ticks": "inside",
         "ticktext": [
          "-2",
          "-1",
          "0",
          "1",
          "2"
         ],
         "tickvals": [
          -2,
          -1,
          0,
          1,
          2
         ],
         "title": {
          "font": {
           "color": "rgb(0, 0, 0)",
           "size": 11
          },
          "text": ""
         },
         "type": "linear",
         "visible": true,
         "zeroline": false
        },
        "yaxis": {
         "anchor": "x",
         "autorange": false,
         "domain": [
          0.11,
          0.9249999999999999
         ],
         "exponentformat": "none",
         "gridcolor": "rgba(38,38,38,0.15)",
         "gridwidth": 1,
         "linecolor": "rgb(38,38,38)",
         "linewidth": 1,
         "mirror": "ticks",
         "range": [
          -2,
          2
         ],
         "showgrid": false,
         "showline": true,
         "side": "left",
         "spikedash": "solid",
         "spikemode": "across",
         "spikesides": false,
         "spikethickness": 1,
         "tickangle": 0,
         "tickcolor": "rgb(38,38,38)",
         "tickfont": {
          "color": "rgb(38,38,38)",
          "size": 10
         },
         "ticklen": 3,
         "ticks": "inside",
         "ticktext": [
          "-2",
          "-1",
          "0",
          "1",
          "2"
         ],
         "tickvals": [
          -2,
          -1,
          0,
          1,
          2
         ],
         "title": {
          "font": {
           "color": "rgb(0, 0, 0)",
           "size": 11
          },
          "text": ""
         },
         "type": "linear",
         "visible": true,
         "zeroline": false
        }
       }
      },
      "image/png": "[encoded data removed]"
     },
     "metadata": {},
     "output_type": "display_data"
    }
   ],
   "source": [
    "[Esorted, index]=sort(Evalue,'descend');\n",
    "\n",
    "for i=1:length(index)\n",
    "    istr=num2str(i);\n",
    "    txt=['E',istr,'=Evect(:,index(i));']; eval(txt)\n",
    "end\n",
    "\n",
    "FinalData=[E1 E2]'*[X Y]';\n",
    "\n",
    "PCA1=FinalData(1,:); PCA2=FinalData(2,:); \n",
    "plot(PCA1,PCA2,'ko','markerfacecolor','g')\n",
    "hold on\n",
    "plot([0 0],[-2 2],'k--')\n",
    "plot([-2 2],[0 0],'k--')\n"
   ]
  },
  {
   "cell_type": "markdown",
   "id": "61c4dccd-4ac0-4e88-b75e-794267eb9c76",
   "metadata": {},
   "source": [
    "# reconstruct the data using only the most significant component(s)\n",
    "\n",
    "We can get the data back to original cartesian coordinates  as follows\n",
    "\n",
    "$$RowDataAdjust=RowFeatureVector^T \\times FinalData$$\n",
    "\n",
    "and add back the means to get the actual original data space.\n",
    "\n",
    "$$RowDataAdjust=RowFeatureVector^T \\times FinalData + OriginalMean$$\n",
    "\n",
    "if we used both eigenvetors we'd just get the original data back. the point is we can get the original data back minus some less significant trends."
   ]
  },
  {
   "cell_type": "code",
   "execution_count": 19,
   "id": "723bc3b7-7572-4a64-8149-cd0d8e7de9cb",
   "metadata": {},
   "outputs": [
    {
     "data": {
      "application/vnd.plotly.v1+json": {
       "data": [
        {
         "line": {
          "color": "rgb(0, 0, 0)",
          "width": 0.5
         },
         "marker": {
          "color": "rgb(0, 0, 0)",
          "line": {
           "color": "rgb(0, 0, 0)"
          },
          "size": 6,
          "symbol": "circle"
         },
         "mode": "markers",
         "name": "1PCA",
         "showlegend": true,
         "type": "scatter",
         "visibility": true,
         "x": [
          2.3712589640000026,
          0.6050255837456271,
          2.4825842875499986,
          1.995879946589024,
          2.9459812029146377,
          2.4288639112413617,
          1.7428163487767303,
          1.0341249774652423,
          1.513060176560772,
          0.9804046011566057
         ],
         "xaxis": "x",
         "y": [
          2.5187060083221686,
          0.6031608863381426,
          2.639442419978468,
          2.111593644953067,
          3.142013433918504,
          2.581180694240765,
          1.8371368569881312,
          1.0685349754449471,
          1.58795783010856,
          1.0102732497072449
         ],
         "yaxis": "y"
        },
        {
         "line": {
          "color": "rgb(0, 0, 0)",
          "width": 0.5
         },
         "marker": {
          "color": "rgb(0, 0, 0)",
          "line": {
           "color": "rgb(0, 0, 0)"
          },
          "size": 6,
          "symbol": "circle"
         },
         "mode": "markers",
         "name": "original",
         "showlegend": true,
         "type": "scatter",
         "visibility": true,
         "x": [
          2.5,
          0.5,
          2.2,
          1.9,
          3.1,
          2.3,
          2,
          1,
          1.5,
          1.1
         ],
         "xaxis": "x",
         "y": [
          2.4,
          0.7,
          2.9,
          2.2,
          3,
          2.7,
          1.6,
          1.1,
          1.6,
          0.9
         ],
         "yaxis": "y"
        },
        {
         "line": {
          "color": "rgb(0, 0, 0)",
          "dash": "dash",
          "width": 0.5
         },
         "marker": {
          "color": "rgb(0, 0, 0)",
          "line": {
           "color": "rgb(0, 0, 0)"
          },
          "size": 6,
          "symbol": "none"
         },
         "mode": "lines",
         "name": "data1",
         "showlegend": true,
         "type": "scatter",
         "visibility": true,
         "x": [
          0,
          0
         ],
         "xaxis": "x",
         "y": [
          -1,
          4
         ],
         "yaxis": "y"
        },
        {
         "line": {
          "color": "rgb(0, 0, 0)",
          "dash": "dash",
          "width": 0.5
         },
         "marker": {
          "color": "rgb(0, 0, 0)",
          "line": {
           "color": "rgb(0, 0, 0)"
          },
          "size": 6,
          "symbol": "none"
         },
         "mode": "lines",
         "name": "data2",
         "showlegend": true,
         "type": "scatter",
         "visibility": true,
         "x": [
          -1,
          4
         ],
         "xaxis": "x",
         "y": [
          0,
          0
         ],
         "yaxis": "y"
        },
        {
         "hoverinfo": "none",
         "line": {
          "color": "rgb(0, 0, 0)",
          "width": 0.5
         },
         "marker": {
          "color": "rgb(0, 0, 0)",
          "line": {
           "color": "rgb(0, 0, 0)"
          },
          "size": 6,
          "symbol": "none"
         },
         "mode": "none",
         "name": "",
         "showlegend": false,
         "type": "scatter",
         "visibility": true,
         "x": [
          3,
          18
         ],
         "xaxis": "x2",
         "y": [
          6.15,
          6.15
         ],
         "yaxis": "y2"
        },
        {
         "hoverinfo": "none",
         "line": {
          "color": "rgb(0, 0, 0)",
          "width": 0.5
         },
         "marker": {
          "color": "rgb(0, 0, 0)",
          "line": {
           "color": "rgb(0, 0, 0)"
          },
          "size": 6,
          "symbol": "none"
         },
         "mode": "none",
         "name": "",
         "showlegend": false,
         "type": "scatter",
         "visibility": true,
         "x": [
          3,
          18
         ],
         "xaxis": "x2",
         "y": [
          16.045072273324582,
          16.045072273324582
         ],
         "yaxis": "y2"
        },
        {
         "hoverinfo": "none",
         "line": {
          "color": "rgb(0, 0, 0)",
          "dash": "dash",
          "width": 0.5
         },
         "marker": {
          "color": "rgb(0, 0, 0)",
          "line": {
           "color": "rgb(0, 0, 0)"
          },
          "size": 6,
          "symbol": "none"
         },
         "mode": "lines",
         "name": "",
         "showlegend": false,
         "type": "scatter",
         "visibility": true,
         "x": [
          3,
          18
         ],
         "xaxis": "x2",
         "y": [
          26.160709592641286,
          26.160709592641286
         ],
         "yaxis": "y2"
        },
        {
         "hoverinfo": "none",
         "line": {
          "color": "rgb(0, 0, 0)",
          "dash": "dash",
          "width": 0.5
         },
         "marker": {
          "color": "rgb(0, 0, 0)",
          "line": {
           "color": "rgb(0, 0, 0)"
          },
          "size": 6,
          "symbol": "none"
         },
         "mode": "lines",
         "name": "",
         "showlegend": false,
         "type": "scatter",
         "visibility": true,
         "x": [
          3,
          18
         ],
         "xaxis": "x2",
         "y": [
          35.90183968462553,
          35.90183968462553
         ],
         "yaxis": "y2"
        }
       ],
       "layout": {
        "annotations": [
         {
          "font": {
           "color": "rgb(0, 0, 0)",
           "size": 9
          },
          "showarrow": false,
          "text": "1PCA",
          "x": 21,
          "xanchor": "left",
          "xref": "x2",
          "y": 6.15,
          "yanchor": "middle",
          "yref": "y2"
         },
         {
          "font": {
           "color": "rgb(0, 0, 0)",
           "size": 9
          },
          "showarrow": false,
          "text": "original",
          "x": 21,
          "xanchor": "left",
          "xref": "x2",
          "y": 16.045072273324582,
          "yanchor": "middle",
          "yref": "y2"
         },
         {
          "font": {
           "color": "rgb(0, 0, 0)",
           "size": 9
          },
          "showarrow": false,
          "text": "data1",
          "x": 21,
          "xanchor": "left",
          "xref": "x2",
          "y": 26.160709592641286,
          "yanchor": "middle",
          "yref": "y2"
         },
         {
          "font": {
           "color": "rgb(0, 0, 0)",
           "size": 9
          },
          "showarrow": false,
          "text": "data2",
          "x": 21,
          "xanchor": "left",
          "xref": "x2",
          "y": 35.90183968462553,
          "yanchor": "middle",
          "yref": "y2"
         }
        ],
        "height": 420,
        "hovermode": "closest",
        "margin": {
         "b": 0,
         "l": 0,
         "r": 0,
         "t": 0
        },
        "plot_bgcolor": "rgba(0, 0, 0, 0)",
        "showlegend": false,
        "width": 560,
        "xaxis": {
         "anchor": "y",
         "autorange": false,
         "domain": [
          0.13,
          0.905
         ],
         "exponentformat": "none",
         "gridcolor": "rgba(38,38,38,0.15)",
         "gridwidth": 1,
         "linecolor": "rgb(38,38,38)",
         "linewidth": 1,
         "mirror": "ticks",
         "range": [
          -1.6697341513292434,
          4.669734151329243
         ],
         "showgrid": false,
         "showline": true,
         "side": "bottom",
         "spikedash": "solid",
         "spikemode": "across",
         "spikesides": false,
         "spikethickness": 1,
         "tickangle": 0,
         "tickcolor": "rgb(38,38,38)",
         "tickfont": {
          "color": "rgb(38,38,38)",
          "size": 10
         },
         "ticklen": 3,
         "ticks": "inside",
         "ticktext": [
          "-1",
          "0",
          "1",
          "2",
          "3",
          "4"
         ],
         "tickvals": [
          -1,
          0,
          1,
          2,
          3,
          4
         ],
         "title": {
          "font": {
           "color": "rgb(0, 0, 0)",
           "size": 11
          },
          "text": ""
         },
         "type": "linear",
         "visible": true,
         "zeroline": false
        },
        "xaxis2": {
         "anchor": "y2",
         "autorange": false,
         "domain": [
          0.7816917293233082,
          0.8906954887218045
         ],
         "exponentformat": "none",
         "fixedrange": true,
         "gridcolor": "rgba(38,38,38,0.15)",
         "gridwidth": 1,
         "linecolor": "rgb(38,38,38)",
         "linewidth": 1,
         "mirror": true,
         "range": [
          0,
          45.721419185282514
         ],
         "showgrid": false,
         "showline": true,
         "showspikes": false,
         "side": "bottom",
         "spikedash": "solid",
         "spikemode": "across",
         "spikesides": false,
         "spikethickness": 1,
         "tickangle": 0,
         "tickcolor": "rgb(38,38,38)",
         "tickfont": {
          "color": "rgb(38,38,38)",
          "size": 9
         },
         "ticklen": 3,
         "ticks": "",
         "ticktext": [],
         "tickvals": [],
         "title": {
          "font": {
           "color": "rgb(0, 0, 0)",
           "size": 9.9
          },
          "text": ""
         },
         "type": "linear",
         "visible": true,
         "zeroline": false
        },
        "yaxis": {
         "anchor": "x",
         "autorange": false,
         "domain": [
          0.11,
          0.925
         ],
         "exponentformat": "none",
         "gridcolor": "rgba(38,38,38,0.15)",
         "gridwidth": 1,
         "linecolor": "rgb(38,38,38)",
         "linewidth": 1,
         "mirror": "ticks",
         "range": [
          -1,
          4
         ],
         "showgrid": false,
         "showline": true,
         "side": "left",
         "spikedash": "solid",
         "spikemode": "across",
         "spikesides": false,
         "spikethickness": 1,
         "tickangle": 0,
         "tickcolor": "rgb(38,38,38)",
         "tickfont": {
          "color": "rgb(38,38,38)",
          "size": 10
         },
         "ticklen": 3,
         "ticks": "inside",
         "ticktext": [
          "-1",
          "0",
          "1",
          "2",
          "3",
          "4"
         ],
         "tickvals": [
          -1,
          0,
          1,
          2,
          3,
          4
         ],
         "title": {
          "font": {
           "color": "rgb(0, 0, 0)",
           "size": 11
          },
          "text": ""
         },
         "type": "linear",
         "visible": true,
         "zeroline": false
        },
        "yaxis2": {
         "anchor": "x2",
         "autorange": false,
         "domain": [
          0.12907268170426064,
          0.26344736842105276
         ],
         "exponentformat": "none",
         "fixedrange": true,
         "gridcolor": "rgba(38,38,38,0.15)",
         "gridwidth": 1,
         "linecolor": "rgb(38,38,38)",
         "linewidth": 1,
         "mirror": true,
         "range": [
          42.27240473061765,
          0
         ],
         "showgrid": false,
         "showline": true,
         "showspikes": false,
         "side": "left",
         "spikedash": "solid",
         "spikemode": "across",
         "spikesides": false,
         "spikethickness": 1,
         "tickangle": 0,
         "tickcolor": "rgb(38,38,38)",
         "tickfont": {
          "color": "rgb(38,38,38)",
          "size": 9
         },
         "ticklen": 3,
         "ticks": "",
         "ticktext": [],
         "tickvals": [],
         "title": {
          "font": {
           "color": "rgb(0, 0, 0)",
           "size": 9.9
          },
          "text": ""
         },
         "type": "linear",
         "visible": true,
         "zeroline": false
        }
       }
      },
      "image/png": "[encoded data removed]"
     },
     "metadata": {},
     "output_type": "display_data"
    }
   ],
   "source": [
    "FinalData=[E1]'*[X Y]'; % this is just using the most significant PCA\n",
    "\n",
    "RowOriginalData=E1*FinalData + [xbar; ybar];\n",
    "\n",
    "X1PCA=RowOriginalData(1,:); Y1PCA=RowOriginalData(2,:);\n",
    "\n",
    "plot(X1PCA,Y1PCA,'ko','markerfacecolor','g')\n",
    "\n",
    "hold on\n",
    "\n",
    "plot(x,y,'ko','markerfacecolor','b');\n",
    "legend('1PCA','original','location','SouthEast');\n",
    "axis equal;\n",
    "plot([0 0],[-1 4],'k--');\n",
    "plot([-1 4],[0 0],'k--');"
   ]
  },
  {
   "cell_type": "markdown",
   "id": "603c2f97-6947-4d93-8c1a-b43e75a3579a",
   "metadata": {},
   "source": [
    "### exercise 8\n",
    "\n",
    "reproduce the graphs from this lecture in your own mfile."
   ]
  }
 ],
 "metadata": {
  "kernelspec": {
   "display_name": "Octave (xoctave)",
   "language": "Octave",
   "name": "xoctave"
  },
  "language_info": {
   "codemirror_mode": "octave",
   "file_extension": ".m",
   "mimetype": "text/x-octave",
   "name": "Octave",
   "nbconvert_exporter": "",
   "pygments_lexer": "octave",
   "version": "7.3.0"
  }
 },
 "nbformat": 4,
 "nbformat_minor": 5
}
