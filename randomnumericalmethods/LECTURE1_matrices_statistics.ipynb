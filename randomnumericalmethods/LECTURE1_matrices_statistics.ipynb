{
 "cells": [
  {
   "cell_type": "code",
   "execution_count": 11,
   "id": "8f4c4186",
   "metadata": {},
   "outputs": [],
   "source": [
    "% some housekeeping stuff\n",
    "register_graphics_toolkit (\"gnuplot\");\n",
    "available_graphics_toolkits ();\n",
    "graphics_toolkit (\"gnuplot\")\n",
    "clear\n",
    "% end of housekeeping"
   ]
  },
  {
   "cell_type": "markdown",
   "id": "3ae1a273",
   "metadata": {},
   "source": [
    "# Introduction to Matrices\n",
    "\n",
    "A matrix is an ordered set of numbers listed rectangular\n",
    "form\n",
    "\n",
    "$$ \\mathbf{A} =\t\t\t\\begin{bmatrix}\n",
    "\t\t\t\t\t\t\t\t\t2 & 5 & 7 & 8 \\\\\n",
    "\t\t\t\t\t\t\t\t\t5 & 6 & 8 & 9 \\\\\n",
    "\t\t\t\t\t\t\t\t\t3 & 9 & 0 & 1\n",
    "\t\t\t\t\t\t\t\t\t\\end{bmatrix} $$\n",
    "\n",
    "by convention matrices are generally assigned bold\n",
    "symbols in mathematical notation\n",
    "and the entries don’t have to be integers (or even real)\n",
    "The matrix A above has three rows and four columns. It\n",
    "is a 3 × 4 matrix\n",
    "we denote the element of the second row and the fourth\n",
    "column $a_{2,4} = 9$"
   ]
  },
  {
   "cell_type": "code",
   "execution_count": 12,
   "id": "4cbaeff8",
   "metadata": {},
   "outputs": [],
   "source": [
    "%A=[2 5 7 8\n",
    "%5 6 8 9\n",
    "%3 9 0 1]\n",
    "\n",
    "%size(A)\n",
    "\n",
    "%[n,m]=size(A)\n",
    "\n",
    "%a=A(2,4)"
   ]
  },
  {
   "cell_type": "markdown",
   "id": "37fd0c80",
   "metadata": {},
   "source": [
    "A **square matrix** has $n$ rows and $n$ columns\n",
    "\t$$ \\mathbf{B} =\t\t\t\\begin{bmatrix}\n",
    "\t\t\t\t\t\t\t\t\t2 & 5 & 7 \\\\\n",
    "\t\t\t\t\t\t\t\t\t5 & 6 & 8 \\\\\n",
    "\t\t\t\t\t\t\t\t\t3 & 9 & 0\n",
    "\t\t\t\t\t\t\t\t\t\\end{bmatrix}\n",
    "\t\t$$\n",
    "\tA **diagonal matrix** is a square matrix with all non-diagonal elements equal to zero\n",
    " $$ \\mathbf{C} =\t\t\t\\begin{bmatrix}\n",
    "\t\t\t\t\t\t\t\t\t2 & 0 & 0 \\\\\n",
    "\t\t\t\t\t\t\t\t\t0 & 6 & 0 \\\\\n",
    "\t\t\t\t\t\t\t\t\t0 & 0 & 2\n",
    "\t\t\t\t\t\t\t\t\t\\end{bmatrix}\n",
    "                            $$\n",
    " **diagonal elements** are denoted $a_{i,i}$ with $i=1,2,3, ...$"
   ]
  },
  {
   "cell_type": "code",
   "execution_count": 13,
   "id": "7f8ccf10",
   "metadata": {},
   "outputs": [],
   "source": [
    "\n",
    "%input the two matrices. \n",
    "%make the diagonal one using D = diag(v) \n",
    "%returns a square diagonal matrix with the elements of vector v on the main diagonal.\n"
   ]
  },
  {
   "cell_type": "markdown",
   "id": "6895850f",
   "metadata": {},
   "source": [
    "a **vector** is a matrix with only one row or column\n",
    "\n",
    "a **row matrix** is a matrix with one row (also called a row vector)\n",
    "\n",
    "a **column matrix** is a matrix with one column (also called a column vector)\n",
    "\n",
    "**transpose of a matrix** is indicated as $\\mathbf{A}^\\prime$ or $\\mathbf{A}^{\\mathrm{T}}$ and results from $a_{i,j}=a_{j,i}^\\prime$\n",
    "\n",
    "$$ \\mathbf{D} =\t\t\t\\begin{bmatrix}\n",
    "\t\t\t\t\t\t\t\t\t2 & 8 & 0 & 6 \\\\\n",
    "\t\t\t\t\t\t\t\t\t1 & 6 & 0 & 2\\\\\n",
    "\t\t\t\t\t\t\t\t\t3 & 0 & 2 & 1\n",
    "\t\t\t\t\t\t\t\t\t\\end{bmatrix}\n",
    "\t\t\t\t\t\t\t\\qquad\n",
    "\\mathbf{D}^\\prime =\t\t\t\\begin{bmatrix}\n",
    "\t\t\t\t\t\t\t\t\t2 & 1 & 3 \\\\\n",
    "\t\t\t\t\t\t\t\t\t8 & 6 & 0\\\\\n",
    "\t\t\t\t\t\t\t\t\t0 & 0 & 2\\\\\n",
    "                                    6 & 2 & 1\n",
    "\t\t\t\t\t\t\t\t\t\\end{bmatrix}\n",
    "$$"
   ]
  },
  {
   "cell_type": "code",
   "execution_count": 14,
   "id": "0bfa36bc",
   "metadata": {},
   "outputs": [],
   "source": [
    "\n",
    "%input D and take the transpose. D=D'"
   ]
  },
  {
   "cell_type": "markdown",
   "id": "023f489c",
   "metadata": {},
   "source": [
    "**identity matrix** is a diagonal matrix with all diagonal elements=1\n",
    "    \n",
    "**sum of matrices** if two matrices are of the same size ($n \\times m$) then to add them we just sum the corresponding entries\n",
    "    \n",
    "$$ \\begin{bmatrix} 2 & 8\\\\\n",
    "\t\t\t\t\t\t\t\t\t\t1 & 6\\\\\n",
    "\t\t\t\t\t\t\t\t\t\t3 & 0\n",
    "\t\t\t\t\t\t\\end{bmatrix}\n",
    "\t\t\t\t\t\t\t+\n",
    "\\begin{bmatrix} 2 & 1\\\\\n",
    "\t\t\t\t\t\t\t\t\t\t8 & 6\\\\\n",
    "\t\t\t\t\t\t\t\t\t\t0 & 0\n",
    "\t\t\t\t\t\t\\end{bmatrix}\n",
    "\t\t\t\t\t\t\t=\n",
    "\t\t\t\t\t\t\\begin{bmatrix}\n",
    "\t\t\t\t\t\t\t\t\t4 & 9 \\\\\n",
    "\t\t\t\t\t\t\t\t\t9 & 12\\\\\n",
    "\t\t\t\t\t\t\t\t\t3 & 0\n",
    "\t\t\t\t\t\t\t\\end{bmatrix}\n",
    " $$"
   ]
  },
  {
   "cell_type": "code",
   "execution_count": 15,
   "id": "5a336f4a",
   "metadata": {},
   "outputs": [],
   "source": [
    "\n",
    "%perform that matrix addition."
   ]
  },
  {
   "cell_type": "markdown",
   "id": "1a5a20d1",
   "metadata": {},
   "source": [
    "multiplication by a scaler (a scaler is just a number) $c\\mathbf{A} = [c a_{i,j}]$\n",
    "\n",
    "multiply two matrices $\\mathbf{A}$ and $\\mathbf{B}$ is only possible if the second dimension of $\\mathbf{A}$ is the same as the first dimension of $\\mathbf{B}$\n",
    "\n",
    "so for $\\mathbf{A}$ with dimension $m \\times n$ and $\\mathbf{B}$ with dimension $n \\times p$ multiplication is defined as $\\mathbf{AB}=\\mathbf{C}$ where\n",
    "\n",
    "$$ c_{i,j}=\\sum_{k=1}^{n} a_{i,k}b_{k,j} $$\n",
    "\t\n",
    "the dimension of $\\mathbf{C}$ is $m \\times p$\n",
    "\n",
    "**EXAMPLE** ...\n",
    "\n",
    "$$ \\mathbf{A}=\\begin{bmatrix} 1 & 3 \\\\ 2 & 4 \\end{bmatrix} \\qquad \\text{and} \\qquad \\mathbf{B}=\\begin{bmatrix} 2 & 5 & 1 \\\\ 4 & 12 & 6 \\end{bmatrix} $$\n",
    "\n",
    "$\\mathbf{A}$ is $2 \\times 2$ and $\\mathbf{B}$ is $2 \\times 3$\n",
    "\t\n",
    "then the product is $$ \\mathbf{C}=[c_{i,j}]=\\sum_{k=1}^{2} a_{i,k}b_{k,j} $$\n",
    "\n",
    "$$ \\begin{bmatrix} (1)(2)+(3)(4) & (1)(5)+(3)(12) & (1)(1)+(3)(6)\\\\ (2)(2)+(4)(4) & (2)(5)+(4)(12)&(2)(1)+(4)(6) \\end{bmatrix}\n",
    "=\\begin{bmatrix} 14 & 41 & 19 \\\\ 20 & 58 & 26 \\end{bmatrix}\n",
    "$$"
   ]
  },
  {
   "cell_type": "code",
   "execution_count": 16,
   "id": "e466652c",
   "metadata": {},
   "outputs": [],
   "source": [
    "\n",
    "%CONFIRM the matrix multiliplication. and the final matrix dimension."
   ]
  },
  {
   "cell_type": "markdown",
   "id": "8f36d041",
   "metadata": {},
   "source": [
    "a $n \\times n$ matrix $\\mathbf{A}$ is said to be invertible if there exists an $n \\times n$ matrix $\\mathbf{B}$ such that $\\mathbf{AB}=\\mathbf{BA}=\\mathbf{I}$ where $\\mathbf{I}$ is an $n \\times n$ identity matrix\n",
    "\n",
    "note: in general $\\mathbf{AB}$ is not necessarily equal to $\\mathbf{BA}$\n",
    "\n",
    "the inverse of a matrix is usually written $\\mathbf{A}^{-1}$"
   ]
  },
  {
   "cell_type": "code",
   "execution_count": 17,
   "id": "7df85699",
   "metadata": {},
   "outputs": [],
   "source": [
    "\n",
    "\n",
    "%pick any nxn matrix to take the inverse of.\n",
    "%Ainv=inv(A);\n",
    "%and verify that you get the inverse\n",
    "%use who command to see what matricess you have in your workspace."
   ]
  },
  {
   "cell_type": "markdown",
   "id": "16599398",
   "metadata": {},
   "source": [
    "# SAMPLING STATISTICS\n",
    "    \n",
    "most statistics you are probably familiar with are called sampling statistics\n",
    "\n",
    "when measuring data we think of taking a finite number of samples from infinitly many possible measurements\n",
    "\n",
    "so we have this idea of the \"true\" value and our task is to figure out how good an estimate of that true value we have\n",
    "\n",
    "if there was no such thing as error we'd always measure the true value\n",
    "\t\n",
    "there are two types of error, random and systematic\n",
    "\n",
    "sampling statitics assume random error\n",
    "\n",
    "if errors are random then they are distributed as a normal distribution about the mean\n",
    "\n",
    "normal distribution (or Gaussian distribution)\n",
    "$$ f(x) = \\dfrac{1}{\\sqrt{2\\pi\\sigma^2}}e^{\\frac{-(x-\\mu)^2}{2\\sigma^2}} $$\n",
    "\n",
    "so for various values of $x$ we can calculate $f(x)$ dependent on the true mean ($\\mu$) and the standard deviation ($\\sigma$)\n",
    "\n",
    "the mean determines the center value and $\\sigma$ determines the spread\n",
    "\n",
    "for infinitely many samples this distribution gives the frequency of each occurance\n",
    "\n",
    "integrating from $-\\infty$ to $\\infty$ we'll get a value of 1\n"
   ]
  },
  {
   "cell_type": "markdown",
   "id": "4ac964a2",
   "metadata": {},
   "source": [
    "# EXERCISE 1\n",
    "\n",
    "let's write a function to return $f(x)$ for a given $x$, $\\mu$ and $\\sigma$\n",
    "\n",
    "then let's write a script to determine and plot distributions with mean 1.5 and $\\sigma$ 0.1, 0.25 and 0.5 on the same graph\n",
    "\n",
    "finally, let's add an integration step to the script to show the area is always one\n"
   ]
  },
  {
   "cell_type": "code",
   "execution_count": 18,
   "id": "2fe3d1f7",
   "metadata": {},
   "outputs": [
    {
     "data": {
      "image/png": "[encoded data removed]",
      "text/plain": [
       "<IPython.core.display.Image object>"
      ]
     },
     "metadata": {},
     "output_type": "display_data"
    }
   ],
   "source": [
    "\n",
    "% put all these in an mfile  a script to sequentially execute the commands (and \n",
    "% store all the variables in the same workspace)\n",
    "\n",
    "%anonymous function \n",
    "\n",
    "%f = @(x,mu,sigma) (1/sqrt(2*pi*sigma^2))*exp(-1*(x-mu).^2)./(2*sigma^2);\n",
    "\n",
    "f = @(x,mu,sigma) (1/(sigma*sqrt(2*pi)))*exp((-1/2)*((x-mu)./sigma).^2);\n",
    "\n",
    "%note use of \".\" for array-wise instead of matrix operation\n",
    "\n",
    "%define row vector and mu and sigma\n",
    "\n",
    "x=-3:0.1:6; mu=1.5; sigma=0.25;\n",
    "\n",
    "% call the function, make sure variables are in the right order\n",
    "\n",
    "y=f(x,mu,sigma);\n",
    "\n",
    "% plot it\n",
    "\n",
    "plot(x,y)\n",
    "\n",
    "% make plot look nicer.  add labels.  thicker lines.  also add the other two lines"
   ]
  },
  {
   "cell_type": "markdown",
   "id": "ee8bfa7a",
   "metadata": {},
   "source": [
    "# EXERCISE 2\n",
    "\n",
    "octave/matlab can generate random numbers with a normal distribution\n",
    "\t\n",
    "let's write a script to generate 2, 3, 10, 100, 1000 random numbers with a mean of 1.5 and a standard deviation of 0.25\n",
    "\n",
    "calculate the sample mean and standard deviation for these sets\n",
    "\n",
    "plot histograms for each data set and the theoretical distributions on the sample plot"
   ]
  },
  {
   "cell_type": "code",
   "execution_count": 19,
   "id": "92cd56a8",
   "metadata": {},
   "outputs": [
    {
     "name": "stdout",
     "output_type": "stream",
     "text": [
      "average = 1.5058\n",
      "stdev = 0.2541\n"
     ]
    },
    {
     "data": {
      "image/png": "[encoded data removed]",
      "text/plain": [
       "<IPython.core.display.Image object>"
      ]
     },
     "metadata": {},
     "output_type": "display_data"
    }
   ],
   "source": [
    "\n",
    "% for nornmal random numbers with zero mean and variance of 1.  randn\n",
    "\n",
    "simdata=0.25*(randn(1,1000))+1.5;\n",
    "\n",
    "average=mean(simdata)\n",
    "stdev=std(simdata)\n",
    "\n",
    "% plot histogram\n",
    "\n",
    "subplot(211); \n",
    "hist(simdata,10)\n",
    "\n",
    "% use  hold command and plot the theoretical curve (as exercise 1)\n",
    "\n",
    "\n",
    "x=0:0.01:3; mu=1.5; sigma=(0.25);\n",
    "\n",
    "% call the function, make sure variables are in the right order\n",
    "\n",
    "y=f(x,mu,sigma);\n",
    "\n",
    "% plot it\n",
    "\n",
    "subplot(212)\n",
    "plot(x,y)\n",
    "axis([0.5 2.5 0 2])\n",
    "\n",
    "%area=trapz(y*1000)*0.01\n"
   ]
  },
  {
   "cell_type": "code",
   "execution_count": 20,
   "id": "5e185765",
   "metadata": {},
   "outputs": [
    {
     "data": {
      "image/png": "[encoded data removed]",
      "text/plain": [
       "<IPython.core.display.Image object>"
      ]
     },
     "metadata": {},
     "output_type": "display_data"
    }
   ],
   "source": [
    "\n",
    "%pkg install -forge statistics\n",
    "pkg load statistics\n",
    "\n",
    "histfit(simdata)"
   ]
  }
 ],
 "metadata": {
  "kernelspec": {
   "display_name": "Octave",
   "language": "octave",
   "name": "octave"
  },
  "language_info": {
   "file_extension": ".m",
   "help_links": [
    {
     "text": "GNU Octave",
     "url": "https://www.gnu.org/software/octave/support.html"
    },
    {
     "text": "Octave Kernel",
     "url": "https://github.com/Calysto/octave_kernel"
    },
    {
     "text": "MetaKernel Magics",
     "url": "https://metakernel.readthedocs.io/en/latest/source/README.html"
    }
   ],
   "mimetype": "text/x-octave",
   "name": "octave",
   "version": "6.4.0"
  }
 },
 "nbformat": 4,
 "nbformat_minor": 5
}
