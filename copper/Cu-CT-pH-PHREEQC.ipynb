{
 "cells": [
  {
   "cell_type": "markdown",
   "id": "9a41a807-6f41-4f61-a9cf-547b7d66e9be",
   "metadata": {},
   "source": [
    "# Copper speciation calculations\n",
    "\n",
    "using PHREEQC"
   ]
  },
  {
   "cell_type": "code",
   "execution_count": 20,
   "id": "ed1c6bb5-29e8-4c27-8248-30c233d693b8",
   "metadata": {},
   "outputs": [],
   "source": [
    "% setup environment\n",
    "% set path to equilibrium solver\n",
    "txt=pwd;\n",
    "n=length(txt);\n",
    "rootpath=txt(1:n-6);\n",
    "PHREEQCpath=[rootpath,'runPHREEQC'];\n",
    "addpath(PHREEQCpath);\n",
    "% clear data and number format\n",
    "clear; format short e\n",
    "\n",
    "% turn off warnings\n",
    "warning off"
   ]
  },
  {
   "cell_type": "code",
   "execution_count": 21,
   "id": "514e72b7-6710-466e-a6c8-9fc50b43b402",
   "metadata": {},
   "outputs": [],
   "source": [
    "pH=[4.5 5 7 8.5]; \n",
    "CuT=1e-6; NO3T=2*CuT; CT=1e-3; NaT=1*CT;\n",
    "T=25; pe=20.75-pH; acid=['NaOH'];\n",
    "totalnames=[{'Cu'}; {'C(+4)'}; {'Na'}]; \n",
    "minerals=[{'Tenorite'};{'CuCO3'};{'Malachite'};{'Azurite'}]; \n",
    "speciesexport=[{'Cu+2'}];\n",
    "database=['Marsac2017EuIIIsolids.dat']; show=0; %0 no output to screen. 1 output to screen"
   ]
  },
  {
   "cell_type": "code",
   "execution_count": 22,
   "id": "f8bf57ef-1940-43dd-a901-4bb797ad96b4",
   "metadata": {},
   "outputs": [
    {
     "data": {
      "text/plain": [
       "ans =          0\n"
      ]
     },
     "metadata": {},
     "output_type": "display_data"
    },
    {
     "data": {
      "text/plain": [
       "ans =          0\n"
      ]
     },
     "metadata": {},
     "output_type": "display_data"
    },
    {
     "data": {
      "text/plain": [
       "ans =          0\n"
      ]
     },
     "metadata": {},
     "output_type": "display_data"
    },
    {
     "data": {
      "text/plain": [
       "ans =          0\n"
      ]
     },
     "metadata": {},
     "output_type": "display_data"
    }
   ],
   "source": [
    "for k=1:length(pH);\n",
    "    totalvector=[CuT; CT; NaT]; pe=20.75-pH(k);\n",
    "    [solutionspeciesconcs, speciesnames, solidconcs, solidnames]=...\n",
    "    runPHREEQCv2noHA(T,pH(k),pe,totalnames,totalvector,minerals,speciesexport,database,show,acid);\n",
    "    for i=1:length(solidconcs)\n",
    "         tst=cell2mat(solidnames(i));\n",
    "         for j=1:length(tst)\n",
    "             if tst(j)=='('; tst(j)='L'; end\n",
    "             if tst(j)==')'; tst(j)='R'; end\n",
    "             if tst(j)==':'; tst(j)='C'; end\n",
    "             if tst(j)=='.'; tst(j)='p'; end\n",
    "         end\n",
    "         txt=[tst,'=solidconcs(i);']; eval(txt); % take out the semicolon after (i) if you want to see the solids listed with concs\n",
    "    end\n",
    "    freeCu(k)=solutionspeciesconcs(1);\n",
    "    TenoriteV(k)=Tenorite; CuCO3V(k)=CuCO3; MalachiteV(k)=Malachite; AzuriteV(k)=Azurite;    \n",
    "end"
   ]
  },
  {
   "cell_type": "code",
   "execution_count": 23,
   "id": "7136aa93-e339-450c-ba9d-9573b3f81765",
   "metadata": {},
   "outputs": [
    {
     "data": {
      "image/png": "[encoded data removed]"
     },
     "metadata": {
      "image/png": {
       "height": 420,
       "width": 560
      }
     },
     "output_type": "display_data"
    }
   ],
   "source": [
    "plot(pH,freeCu,pH,MalachiteV,pH,TenoriteV,pH,CuCO3V,pH,AzuriteV)\n",
    "legend('Cu^{2+}','Malachite','Tenorite','CuCO3','Azurite')"
   ]
  },
  {
   "cell_type": "code",
   "execution_count": 27,
   "id": "a08044fa-fbde-479a-8c55-8582297c54a8",
   "metadata": {},
   "outputs": [
    {
     "data": {
      "text/html": [
       "<table><tr><th><i>show<i></th><th>1</th><th>2</th><th>3</th><th>4</th><th>5</th><th>6</th></tr><tr><th>1</th><td>4.5</td><td>-6.0008</td><td>0</td><td>0</td><td>0</td><td>0</td></tr><tr><th>2</th><td>5</td><td>-6.00281</td><td>0</td><td>0</td><td>0</td><td>0</td></tr><tr><th>3</th><td>7</td><td>-6.51215</td><td>0</td><td>0</td><td>0</td><td>0</td></tr><tr><th>4</th><td>8.5</td><td>-9.2934</td><td>0</td><td>9.54202e-07</td><td>0</td><td>0</td></tr></table>"
      ],
      "text/plain": [
       "show =    4.5000e+00  -6.0008e+00            0            0            0            0\n",
       "   5.0000e+00  -6.0028e+00            0            0            0            0\n",
       "   7.0000e+00  -6.5121e+00            0            0            0            0\n",
       "   8.5000e+00  -9.2934e+00            0   9.5420e-07            0            0\n"
      ]
     },
     "metadata": {},
     "output_type": "display_data"
    }
   ],
   "source": [
    "show=[pH' log10(freeCu)' MalachiteV' TenoriteV' CuCO3V' AzuriteV']"
   ]
  },
  {
   "cell_type": "code",
   "execution_count": null,
   "id": "9344ee5e-26ef-4c0d-b3ec-820c154c9735",
   "metadata": {},
   "outputs": [],
   "source": []
  }
 ],
 "metadata": {
  "kernelspec": {
   "display_name": "Octave (xoctave)",
   "language": "Octave",
   "name": "xoctave"
  },
  "language_info": {
   "codemirror_mode": "octave",
   "file_extension": ".m",
   "mimetype": "text/x-octave",
   "name": "Octave",
   "nbconvert_exporter": "",
   "pygments_lexer": "octave",
   "version": "7.3.0"
  }
 },
 "nbformat": 4,
 "nbformat_minor": 5
}
