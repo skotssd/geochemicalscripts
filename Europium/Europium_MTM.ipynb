{
 "cells": [
  {
   "cell_type": "markdown",
   "id": "8283430c-6863-48ac-bb5f-e590c7ec900f",
   "metadata": {},
   "source": [
    "# Europium speciation calculation\n",
    "\n",
    "using PHREEQC and the Marsac (2017) model for HA complexation"
   ]
  },
  {
   "cell_type": "code",
   "execution_count": 18,
   "id": "28a381c5-1ed9-433e-b3b6-6d8bdd972433",
   "metadata": {
    "tags": []
   },
   "outputs": [],
   "source": [
    "% setup environment\n",
    "% set path to equilibrium solver\n",
    "txt=pwd;\n",
    "n=length(txt);\n",
    "rootpath=txt(1:n-8);\n",
    "PHREEQCpath=[rootpath,'runPHREEQC'];\n",
    "addpath(PHREEQCpath);\n",
    "% clear data and number format\n",
    "clear; format short e\n",
    "\n",
    "% turn off warnings\n",
    "warning off"
   ]
  },
  {
   "cell_type": "code",
   "execution_count": 19,
   "id": "d697c73b-c90e-45f6-80e6-5a52b9d8a687",
   "metadata": {},
   "outputs": [],
   "source": [
    "HAconc=1; %mgHA/L so DOC is 2X higher\n",
    "pH=6.5;\n",
    "CT=1e-13; % set low amount of inorganic carbon (1e-13)  can't set to zero.  set higher for carbonate media (1e-3)"
   ]
  },
  {
   "cell_type": "code",
   "execution_count": 20,
   "id": "e93ef1c5-d273-4563-b133-106b684f9019",
   "metadata": {
    "jupyter": {
     "source_hidden": true
    },
    "tags": []
   },
   "outputs": [],
   "source": [
    "\n",
    "function [II,GG]=SURFACES\n",
    "\n",
    "II=[...\n",
    "3.70E-04\n",
    "3.70E-04\n",
    "3.70E-04\n",
    "3.70E-04\n",
    "1.85E-04\n",
    "1.85E-04\n",
    "1.85E-04\n",
    "1.85E-04\n",
    "1.91E-04\n",
    "1.91E-04\n",
    "1.91E-04\n",
    "1.91E-04\n",
    "1.91E-04\n",
    "1.91E-04\n",
    "1.91E-05\n",
    "1.91E-05\n",
    "1.91E-05\n",
    "1.91E-05\n",
    "1.91E-05\n",
    "1.91E-05\n",
    "1.91E-06\n",
    "1.91E-06\n",
    "1.91E-06\n",
    "1.91E-06\n",
    "1.91E-06\n",
    "1.91E-06\n",
    "1.24E-05\n",
    "1.24E-05\n",
    "1.24E-05\n",
    "1.24E-05\n",
    "1.24E-05\n",
    "1.24E-05\n",
    "1.24E-05\n",
    "1.24E-05\n",
    "1.24E-06\n",
    "1.24E-06\n",
    "1.24E-06\n",
    "1.24E-06\n",
    "1.24E-06\n",
    "1.24E-06\n",
    "1.24E-06\n",
    "1.24E-06\n",
    "1.24E-07\n",
    "1.24E-07\n",
    "1.24E-07\n",
    "1.24E-07\n",
    "1.24E-07\n",
    "1.24E-07\n",
    "1.24E-07\n",
    "1.24E-07\n",
    "];\n",
    "\n",
    "GG=[...\n",
    "{'Ha_aH'}\n",
    "{'Ha_bH'}\n",
    "{'Ha_cH'}\n",
    "{'Ha_dH'}\n",
    "{'Ha_eH'}\n",
    "{'Ha_fH'}\n",
    "{'Ha_gH'}\n",
    "{'Ha_hH'}\n",
    "{'Ha_abH2'}\n",
    "{'Ha_cdH2'}\n",
    "{'Ha_aeH2'}\n",
    "{'Ha_bfH2'}\n",
    "{'Ha_cgH2'}\n",
    "{'Ha_dhH2'}\n",
    "{'Ha_abxH2'}\n",
    "{'Ha_cdxH2'}\n",
    "{'Ha_aexH2'}\n",
    "{'Ha_bfxH2'}\n",
    "{'Ha_cgxH2'}\n",
    "{'Ha_dhxH2'}\n",
    "{'Ha_abxxH2'}\n",
    "{'Ha_cdxxH2'}\n",
    "{'Ha_aexxH2'}\n",
    "{'Ha_bfxxH2'}\n",
    "{'Ha_cgxxH2'}\n",
    "{'Ha_dhxxH2'}\n",
    "{'Ha_abeH3'}\n",
    "{'Ha_abfH3'}\n",
    "{'Ha_abgH3'}\n",
    "{'Ha_abhH3'}\n",
    "{'Ha_cdeH3'}\n",
    "{'Ha_cdfH3'}\n",
    "{'Ha_cdgH3'}\n",
    "{'Ha_cdhH3'}\n",
    "{'Ha_abeyH3'}\n",
    "{'Ha_abfyH3'}\n",
    "{'Ha_abgyH3'}\n",
    "{'Ha_abhyH3'}\n",
    "{'Ha_cdeyH3'}\n",
    "{'Ha_cdfyH3'}\n",
    "{'Ha_cdgyH3'}\n",
    "{'Ha_cdhyH3'}\n",
    "{'Ha_abeyyH3'}\n",
    "{'Ha_abfyyH3'}\n",
    "{'Ha_abgyyH3'}\n",
    "{'Ha_abhyyH3'}\n",
    "{'Ha_cdeyyH3'}\n",
    "{'Ha_cdfyyH3'}\n",
    "{'Ha_cdgyyH3'}\n",
    "{'Ha_cdhyyH3'}\n",
    "];\n",
    "\n",
    "end\n"
   ]
  },
  {
   "cell_type": "code",
   "execution_count": 21,
   "id": "6849300a-31d6-46c9-bcb9-3cfb5f27a20d",
   "metadata": {
    "tags": []
   },
   "outputs": [],
   "source": [
    "function II=exportspecies(REE)\n",
    "\n",
    "II=[...\n",
    "   {'Ha_aREE+2'}\n",
    "{'Ha_bREE+2'}\n",
    "{'Ha_cREE+2'}\n",
    "{'Ha_dREE+2'}\n",
    "{'Ha_eREE+2'}\n",
    "{'Ha_fREE+2'}\n",
    "{'Ha_gREE+2'}\n",
    "{'Ha_hREE+2'}\n",
    "{'Ha_abREE+'}\n",
    "{'Ha_cdREE+'}\n",
    "{'Ha_aeREE+'}\n",
    "{'Ha_bfREE+'}\n",
    "{'Ha_cgREE+'}\n",
    "{'Ha_dhREE+'}\n",
    "{'Ha_abxREE+'}\n",
    "{'Ha_cdxREE+'}\n",
    "{'Ha_aexREE+'}\n",
    "{'Ha_bfxREE+'}\n",
    "{'Ha_cgxREE+'}\n",
    "{'Ha_dhxREE+'}\n",
    "{'Ha_abxxREE+'}\n",
    "{'Ha_cdxxREE+'}\n",
    "{'Ha_aexxREE+'}\n",
    "{'Ha_bfxxREE+'}\n",
    "{'Ha_cgxxREE+'}\n",
    "{'Ha_dhxxREE+'}\n",
    "{'Ha_abeREE'}\n",
    "{'Ha_abfREE'}\n",
    "{'Ha_abgREE'}\n",
    "{'Ha_abhREE'}\n",
    "{'Ha_cdeREE'}\n",
    "{'Ha_cdfREE'}\n",
    "{'Ha_cdgREE'}\n",
    "{'Ha_cdhREE'}\n",
    "{'Ha_abeyREE'}\n",
    "{'Ha_abfyREE'}\n",
    "{'Ha_abgyREE'}\n",
    "{'Ha_abhyREE'}\n",
    "{'Ha_cdeyREE'}\n",
    "{'Ha_cdfyREE'}\n",
    "{'Ha_cdgyREE'}\n",
    "{'Ha_cdhyREE'}\n",
    "{'Ha_abeyyREE'}\n",
    "{'Ha_abfyyREE'}\n",
    "{'Ha_abgyyREE'}\n",
    "{'Ha_abhyyREE'}\n",
    "{'Ha_cdeyyREE'}\n",
    "{'Ha_cdfyyREE'}\n",
    "{'Ha_cdgyyREE'}\n",
    "{'Ha_cdhyyREE'}\n",
    "];\n",
    "\n",
    "for i=1:length(II)\n",
    "    str=II(i);\n",
    "    newStr=strrep(str,'REE',REE);\n",
    "    II(i)=newStr;\n",
    "end"
   ]
  },
  {
   "cell_type": "code",
   "execution_count": 22,
   "id": "571e9b9b-bdeb-4d21-9b5c-02f03736ff3e",
   "metadata": {
    "tags": []
   },
   "outputs": [],
   "source": [
    "logEuT=-9:0.05:-5.9; EuT=10.^logEuT;\n",
    "HAconc=HAconc/1000; %convert to g/L for PHREEQC input\n",
    "NO3T=3*EuT; \n",
    "ClT=0.0578e-3; \n",
    "SO4T=0.25e-3; \n",
    "NaT=0.078e-3*2; %just count extra K as Na (only comes into ionic strength calc)\n",
    "CaT=0.25e-3;\n",
    "MgT=0.25e-3; \n",
    "ionicstrength=0.5*(NaT+4*CaT+4*MgT+4*SO4T+ClT);\n",
    "T=25; pe=20.75-pH; acid=['NaOH'];\n",
    "totalnames=[{'Eu'}; {'Na'}; {'Cl'}; {'N(+5)'}; {'C(+4)'}; {'S(6)'}; {'Ca'}; {'Mg'}]; \n",
    "minerals=[{'Eu(OH)3'}; {'Eu2(CO3)3:3H2O'}; {'Eu(OH)2Cl'}; {'Eu2(SO4)3:8H2O'}; {'EuCl3:6H2O'}; ...\n",
    "    {'Eu(NO3)3:6H2O'}; {'Eu(OH)2.5Cl.5'}; {'Eu(OH)2Cl'}; {'Eu2O3(cubic)'}; {'Eu2O3(monoclinic)'}; ...\n",
    "    {'EuOCl'}; {'EuCl3'}; {'EuOHCO3'}; {'Calcite'}; {'Dolomite(disordered)'}; {'Magnesite'}];% {'EuPO4:10H2O'}]; \n",
    "speciesexport=exportspecies(totalnames(1));\n",
    "speciesexport(51,1)={'Eu+3'};"
   ]
  },
  {
   "cell_type": "code",
   "execution_count": 23,
   "id": "746eaab2-4a83-4530-a58c-28cb6c2f3da4",
   "metadata": {
    "tags": []
   },
   "outputs": [],
   "source": [
    "\n",
    "[surfaceconcs,SURFACENAMES]=SURFACES; \n",
    "SURFACECONCS=HAconc*surfaceconcs;\n",
    "dummysurfacearea=1e6;\n",
    "database=['Marsac2017EuIIIsolids.dat']; show=0; %0 no output to screen. 1 output to screen\n"
   ]
  },
  {
   "cell_type": "code",
   "execution_count": 24,
   "id": "8b464e53-4c00-4215-8fd7-c7bcdafec288",
   "metadata": {
    "tags": [
     "hide-cell"
    ]
   },
   "outputs": [
    {
     "data": {
      "text/plain": [
       "ans =          0\n"
      ]
     },
     "metadata": {},
     "output_type": "display_data"
    },
    {
     "data": {
      "text/plain": [
       "ans =          0\n"
      ]
     },
     "metadata": {},
     "output_type": "display_data"
    },
    {
     "data": {
      "text/plain": [
       "ans =          0\n"
      ]
     },
     "metadata": {},
     "output_type": "display_data"
    },
    {
     "data": {
      "text/plain": [
       "ans =          0\n"
      ]
     },
     "metadata": {},
     "output_type": "display_data"
    },
    {
     "data": {
      "text/plain": [
       "ans =          0\n"
      ]
     },
     "metadata": {},
     "output_type": "display_data"
    },
    {
     "data": {
      "text/plain": [
       "ans =          0\n"
      ]
     },
     "metadata": {},
     "output_type": "display_data"
    },
    {
     "data": {
      "text/plain": [
       "ans =          0\n"
      ]
     },
     "metadata": {},
     "output_type": "display_data"
    },
    {
     "data": {
      "text/plain": [
       "ans =          0\n"
      ]
     },
     "metadata": {},
     "output_type": "display_data"
    },
    {
     "data": {
      "text/plain": [
       "ans =          0\n"
      ]
     },
     "metadata": {},
     "output_type": "display_data"
    },
    {
     "data": {
      "text/plain": [
       "ans =          0\n"
      ]
     },
     "metadata": {},
     "output_type": "display_data"
    },
    {
     "data": {
      "text/plain": [
       "ans =          0\n"
      ]
     },
     "metadata": {},
     "output_type": "display_data"
    },
    {
     "data": {
      "text/plain": [
       "ans =          0\n"
      ]
     },
     "metadata": {},
     "output_type": "display_data"
    },
    {
     "data": {
      "text/plain": [
       "ans =          0\n"
      ]
     },
     "metadata": {},
     "output_type": "display_data"
    },
    {
     "data": {
      "text/plain": [
       "ans =          0\n"
      ]
     },
     "metadata": {},
     "output_type": "display_data"
    },
    {
     "data": {
      "text/plain": [
       "ans =          0\n"
      ]
     },
     "metadata": {},
     "output_type": "display_data"
    },
    {
     "data": {
      "text/plain": [
       "ans =          0\n"
      ]
     },
     "metadata": {},
     "output_type": "display_data"
    },
    {
     "data": {
      "text/plain": [
       "ans =          0\n"
      ]
     },
     "metadata": {},
     "output_type": "display_data"
    },
    {
     "data": {
      "text/plain": [
       "ans =          0\n"
      ]
     },
     "metadata": {},
     "output_type": "display_data"
    },
    {
     "data": {
      "text/plain": [
       "ans =          0\n"
      ]
     },
     "metadata": {},
     "output_type": "display_data"
    },
    {
     "data": {
      "text/plain": [
       "ans =          0\n"
      ]
     },
     "metadata": {},
     "output_type": "display_data"
    },
    {
     "data": {
      "text/plain": [
       "ans =          0\n"
      ]
     },
     "metadata": {},
     "output_type": "display_data"
    },
    {
     "data": {
      "text/plain": [
       "ans =          0\n"
      ]
     },
     "metadata": {},
     "output_type": "display_data"
    },
    {
     "data": {
      "text/plain": [
       "ans =          0\n"
      ]
     },
     "metadata": {},
     "output_type": "display_data"
    },
    {
     "data": {
      "text/plain": [
       "ans =          0\n"
      ]
     },
     "metadata": {},
     "output_type": "display_data"
    },
    {
     "data": {
      "text/plain": [
       "ans =          0\n"
      ]
     },
     "metadata": {},
     "output_type": "display_data"
    },
    {
     "data": {
      "text/plain": [
       "ans =          0\n"
      ]
     },
     "metadata": {},
     "output_type": "display_data"
    },
    {
     "data": {
      "text/plain": [
       "ans =          0\n"
      ]
     },
     "metadata": {},
     "output_type": "display_data"
    },
    {
     "data": {
      "text/plain": [
       "ans =          0\n"
      ]
     },
     "metadata": {},
     "output_type": "display_data"
    },
    {
     "data": {
      "text/plain": [
       "ans =          0\n"
      ]
     },
     "metadata": {},
     "output_type": "display_data"
    },
    {
     "data": {
      "text/plain": [
       "ans =          0\n"
      ]
     },
     "metadata": {},
     "output_type": "display_data"
    },
    {
     "data": {
      "text/plain": [
       "ans =          0\n"
      ]
     },
     "metadata": {},
     "output_type": "display_data"
    },
    {
     "data": {
      "text/plain": [
       "ans =          0\n"
      ]
     },
     "metadata": {},
     "output_type": "display_data"
    },
    {
     "data": {
      "text/plain": [
       "ans =          0\n"
      ]
     },
     "metadata": {},
     "output_type": "display_data"
    },
    {
     "data": {
      "text/plain": [
       "ans =          0\n"
      ]
     },
     "metadata": {},
     "output_type": "display_data"
    },
    {
     "data": {
      "text/plain": [
       "ans =          0\n"
      ]
     },
     "metadata": {},
     "output_type": "display_data"
    },
    {
     "data": {
      "text/plain": [
       "ans =          0\n"
      ]
     },
     "metadata": {},
     "output_type": "display_data"
    },
    {
     "data": {
      "text/plain": [
       "ans =          0\n"
      ]
     },
     "metadata": {},
     "output_type": "display_data"
    },
    {
     "data": {
      "text/plain": [
       "ans =          0\n"
      ]
     },
     "metadata": {},
     "output_type": "display_data"
    },
    {
     "data": {
      "text/plain": [
       "ans =          0\n"
      ]
     },
     "metadata": {},
     "output_type": "display_data"
    },
    {
     "data": {
      "text/plain": [
       "ans =          0\n"
      ]
     },
     "metadata": {},
     "output_type": "display_data"
    },
    {
     "data": {
      "text/plain": [
       "ans =          0\n"
      ]
     },
     "metadata": {},
     "output_type": "display_data"
    },
    {
     "data": {
      "text/plain": [
       "ans =          0\n"
      ]
     },
     "metadata": {},
     "output_type": "display_data"
    },
    {
     "data": {
      "text/plain": [
       "ans =          0\n"
      ]
     },
     "metadata": {},
     "output_type": "display_data"
    },
    {
     "data": {
      "text/plain": [
       "ans =          0\n"
      ]
     },
     "metadata": {},
     "output_type": "display_data"
    },
    {
     "data": {
      "text/plain": [
       "ans =          0\n"
      ]
     },
     "metadata": {},
     "output_type": "display_data"
    },
    {
     "data": {
      "text/plain": [
       "ans =          0\n"
      ]
     },
     "metadata": {},
     "output_type": "display_data"
    },
    {
     "data": {
      "text/plain": [
       "ans =          0\n"
      ]
     },
     "metadata": {},
     "output_type": "display_data"
    },
    {
     "data": {
      "text/plain": [
       "ans =          0\n"
      ]
     },
     "metadata": {},
     "output_type": "display_data"
    },
    {
     "data": {
      "text/plain": [
       "ans =          0\n"
      ]
     },
     "metadata": {},
     "output_type": "display_data"
    },
    {
     "data": {
      "text/plain": [
       "ans =          0\n"
      ]
     },
     "metadata": {},
     "output_type": "display_data"
    },
    {
     "data": {
      "text/plain": [
       "ans =          0\n"
      ]
     },
     "metadata": {},
     "output_type": "display_data"
    },
    {
     "data": {
      "text/plain": [
       "ans =          0\n"
      ]
     },
     "metadata": {},
     "output_type": "display_data"
    },
    {
     "data": {
      "text/plain": [
       "ans =          0\n"
      ]
     },
     "metadata": {},
     "output_type": "display_data"
    },
    {
     "data": {
      "text/plain": [
       "ans =          0\n"
      ]
     },
     "metadata": {},
     "output_type": "display_data"
    },
    {
     "data": {
      "text/plain": [
       "ans =          0\n"
      ]
     },
     "metadata": {},
     "output_type": "display_data"
    },
    {
     "data": {
      "text/plain": [
       "ans =          0\n"
      ]
     },
     "metadata": {},
     "output_type": "display_data"
    },
    {
     "data": {
      "text/plain": [
       "ans =          0\n"
      ]
     },
     "metadata": {},
     "output_type": "display_data"
    },
    {
     "data": {
      "text/plain": [
       "ans =          0\n"
      ]
     },
     "metadata": {},
     "output_type": "display_data"
    },
    {
     "data": {
      "text/plain": [
       "ans =          0\n"
      ]
     },
     "metadata": {},
     "output_type": "display_data"
    },
    {
     "data": {
      "text/plain": [
       "ans =          0\n"
      ]
     },
     "metadata": {},
     "output_type": "display_data"
    },
    {
     "data": {
      "text/plain": [
       "ans =          0\n"
      ]
     },
     "metadata": {},
     "output_type": "display_data"
    },
    {
     "data": {
      "text/plain": [
       "ans =          0\n"
      ]
     },
     "metadata": {},
     "output_type": "display_data"
    },
    {
     "data": {
      "text/plain": [
       "ans =          0\n"
      ]
     },
     "metadata": {},
     "output_type": "display_data"
    }
   ],
   "source": [
    "for k=1:length(EuT);\n",
    "    totalvector=[EuT(k); NaT; ClT; NO3T(k); CT; SO4T; CaT; MgT];\n",
    "    [solutionspeciesconcs, speciesnames, solidconcs, solidnames]=...\n",
    "    runPHREEQCv2(T,pH,pe,HAconc,totalnames,totalvector,minerals,...\n",
    "    SURFACECONCS,SURFACENAMES,speciesexport,ionicstrength,dummysurfacearea,database,show,acid);\n",
    "    %convert phreeqc variable names for solids to matlab permissible names. set\n",
    "    %solid concs as variable names\n",
    "    for i=1:length(solidconcs)\n",
    "         tst=cell2mat(solidnames(i));\n",
    "         for j=1:length(tst)\n",
    "             if tst(j)=='('; tst(j)='L'; end\n",
    "             if tst(j)==')'; tst(j)='R'; end\n",
    "             if tst(j)==':'; tst(j)='C'; end\n",
    "             if tst(j)=='.'; tst(j)='p'; end\n",
    "         end\n",
    "         txt=[tst,'=solidconcs(i);']; eval(txt); % take out the semicolon after (i) if you want to see the solids listed with concs\n",
    "    end\n",
    "\n",
    "    organicbound(k)=sum(solutionspeciesconcs(1:50));\n",
    "    solidbound(k)=EuLOHR3+2*Eu2LCO3R3C3H2O+EuLOHR2Cl+Eu2LSO4R3C8H2O+EuCl3C6H2O+EuLNO3R3C6H2O+EuLOHR2p5Clp5+EuLOHR2Cl+...\n",
    "        Eu2O3LcubicR + Eu2O3LmonoclinicR+EuOCl+EuCl3+EuOHCO3; % don't forget stoichiometry!\n",
    "    inorganicbound(k)=EuT(k)-organicbound(k)-solidbound(k);\n",
    "    Eufree(k)=solutionspeciesconcs(51);\n",
    "end"
   ]
  },
  {
   "cell_type": "code",
   "execution_count": 25,
   "id": "49d750f6-f5f9-4e08-9798-35303117fa0f",
   "metadata": {
    "jupyter": {
     "source_hidden": true
    },
    "tags": []
   },
   "outputs": [
    {
     "data": {
      "application/vnd.plotly.v1+json": {
       "data": [
        {
         "line": {
          "color": "rgb(0,113,188)",
          "dash": "solid",
          "width": 2
         },
         "marker": {
          "color": "rgb(0,113,188)",
          "line": {
           "color": "rgb(0,113,188)"
          },
          "size": 6,
          "symbol": "none"
         },
         "mode": "lines",
         "name": "org",
         "showlegend": true,
         "type": "scatter",
         "visibility": true,
         "x": [
          0.001,
          0.0011220184543019652,
          0.0012589254117941662,
          0.0014125375446227555,
          0.0015848931924611108,
          0.0017782794100389228,
          0.001995262314968883,
          0.0022387211385683377,
          0.002511886431509582,
          0.002818382931264449,
          0.0031622776601683794,
          0.00354813389233576,
          0.003981071705534969,
          0.004466835921509635,
          0.005011872336272715,
          0.005623413251903491,
          0.006309573444801943,
          0.0070794578438413735,
          0.007943282347242822,
          0.008912509381337442,
          0.01,
          0.01122018454301963,
          0.012589254117941661,
          0.014125375446227554,
          0.01584893192461114,
          0.01778279410038923,
          0.019952623149688785,
          0.022387211385683378,
          0.025118864315095822,
          0.02818382931264455,
          0.03162277660168379,
          0.03548133892335753,
          0.03981071705534969,
          0.04466835921509635,
          0.05011872336272725,
          0.056234132519034905,
          0.0630957344480193,
          0.07079457843841373,
          0.07943282347242822,
          0.08912509381337459,
          0.09999999999999999,
          0.11220184543019653,
          0.12589254117941662,
          0.14125375446227553,
          0.1584893192461114,
          0.17782794100389226,
          0.1995262314968883,
          0.22387211385683378,
          0.25118864315095824,
          0.2818382931264455,
          0.31622776601683794,
          0.3548133892335761,
          0.3981071705534969,
          0.4466835921509635,
          0.5011872336272725,
          0.5623413251903491,
          0.6309573444801942,
          0.7079457843841374,
          0.7943282347242822,
          0.8912509381337459,
          1,
          1.1220184543019651,
          1.2589254117941662
         ],
         "xaxis": "x",
         "y": [
          0.9879197315102994,
          0.9879041054227576,
          0.9879011068987369,
          0.9878952227666912,
          0.9879258218502861,
          0.9879327551062593,
          0.9879393391066527,
          0.9879103249592394,
          0.9879235501900425,
          0.9879223176554786,
          0.9879209591992776,
          0.9879016692709323,
          0.9879146763968545,
          0.987895616006092,
          0.9879041878800756,
          0.9878907470446463,
          0.9878906051349313,
          0.9878845697266961,
          0.9878717777708053,
          0.9878578149772955,
          0.987846128828089,
          0.9878146305257891,
          0.9877923645827535,
          0.9877628702693798,
          0.9877633352764895,
          0.9877296539968385,
          0.9876789917416201,
          0.9875711789979569,
          0.9874862616894281,
          0.9873746045121556,
          0.9872556765166226,
          0.9871137443189534,
          0.9869989138053717,
          0.9868456553534493,
          0.9867113317301771,
          0.986543367485084,
          0.9863729961450891,
          0.9861759003006696,
          0.9859444359453086,
          0.9856751063595893,
          0.9853589707156833,
          0.9849567961245173,
          0.9844727838296928,
          0.9838546734602438,
          0.9830867199700841,
          0.9820305449924945,
          0.980603919280177,
          0.9786545018338383,
          0.9761628461403031,
          0.9730318207783645,
          0.9692701964151135,
          0.964840074095717,
          0.9597044071101939,
          0.9536276519674199,
          0.9463711780213743,
          0.9374431290171382,
          0.9262210798884437,
          0.9117682277414048,
          0.8928702194110989,
          0.8681291715632927,
          0.8363370132125749,
          0.7971061872757962,
          0.7513808701113016
         ],
         "yaxis": "y"
        },
        {
         "line": {
          "color": "rgb(216,82,24)",
          "dash": "solid",
          "width": 2
         },
         "marker": {
          "color": "rgb(216,82,24)",
          "line": {
           "color": "rgb(216,82,24)"
          },
          "size": 6,
          "symbol": "none"
         },
         "mode": "lines",
         "name": "inorg",
         "showlegend": true,
         "type": "scatter",
         "visibility": true,
         "x": [
          0.001,
          0.0011220184543019652,
          0.0012589254117941662,
          0.0014125375446227555,
          0.0015848931924611108,
          0.0017782794100389228,
          0.001995262314968883,
          0.0022387211385683377,
          0.002511886431509582,
          0.002818382931264449,
          0.0031622776601683794,
          0.00354813389233576,
          0.003981071705534969,
          0.004466835921509635,
          0.005011872336272715,
          0.005623413251903491,
          0.006309573444801943,
          0.0070794578438413735,
          0.007943282347242822,
          0.008912509381337442,
          0.01,
          0.01122018454301963,
          0.012589254117941661,
          0.014125375446227554,
          0.01584893192461114,
          0.01778279410038923,
          0.019952623149688785,
          0.022387211385683378,
          0.025118864315095822,
          0.02818382931264455,
          0.03162277660168379,
          0.03548133892335753,
          0.03981071705534969,
          0.04466835921509635,
          0.05011872336272725,
          0.056234132519034905,
          0.0630957344480193,
          0.07079457843841373,
          0.07943282347242822,
          0.08912509381337459,
          0.09999999999999999,
          0.11220184543019653,
          0.12589254117941662,
          0.14125375446227553,
          0.1584893192461114,
          0.17782794100389226,
          0.1995262314968883,
          0.22387211385683378,
          0.25118864315095824,
          0.2818382931264455,
          0.31622776601683794,
          0.3548133892335761,
          0.3981071705534969,
          0.4466835921509635,
          0.5011872336272725,
          0.5623413251903491,
          0.6309573444801942,
          0.7079457843841374,
          0.7943282347242822,
          0.8912509381337459,
          1,
          1.1220184543019651,
          1.2589254117941662
         ],
         "xaxis": "x",
         "y": [
          0.012080268489700535,
          0.012095894577242403,
          0.01209889310126306,
          0.012104777233308786,
          0.012074178149713904,
          0.012067244893740647,
          0.012060660893347303,
          0.012089675040760658,
          0.012076449809957444,
          0.012077682344521489,
          0.01207904080072244,
          0.012098330729067738,
          0.012085323603145485,
          0.012104383993907992,
          0.012095812119924419,
          0.012109252955353676,
          0.012109394865068695,
          0.012115430273303843,
          0.012128222229194768,
          0.012142185022704442,
          0.012153871171911067,
          0.012185369474210854,
          0.012207635417246496,
          0.012237129730620213,
          0.012236664723510537,
          0.012270346003161422,
          0.012321008258379866,
          0.012428821002043152,
          0.012513738310571882,
          0.012625395487844353,
          0.012744323483377347,
          0.012886255681046638,
          0.013001086194628227,
          0.013154344646550702,
          0.013288668269822881,
          0.013456632514915976,
          0.013627003854910944,
          0.013824099699330414,
          0.014055564054691412,
          0.014324893640410626,
          0.014641029284316672,
          0.01504320387548278,
          0.01552721617030714,
          0.01614532653975624,
          0.016913280029915847,
          0.01796945500750542,
          0.019396080719822982,
          0.02134549816616172,
          0.023837153859696876,
          0.026968179221635573,
          0.030729803584886535,
          0.035159925904283,
          0.04029559288980607,
          0.046372348032580044,
          0.05362882197862574,
          0.06255687098286182,
          0.07377892011155625,
          0.0882317722585952,
          0.10712978058890114,
          0.13187082843670733,
          0.16366298678742502,
          0.20289381272420384,
          0.24861912988869844
         ],
         "yaxis": "y"
        },
        {
         "line": {
          "color": "rgb(236,176,31)",
          "dash": "solid",
          "width": 2
         },
         "marker": {
          "color": "rgb(236,176,31)",
          "line": {
           "color": "rgb(236,176,31)"
          },
          "size": 6,
          "symbol": "none"
         },
         "mode": "lines",
         "name": "solid",
         "showlegend": true,
         "type": "scatter",
         "visibility": true,
         "x": [
          0.001,
          0.0011220184543019652,
          0.0012589254117941662,
          0.0014125375446227555,
          0.0015848931924611108,
          0.0017782794100389228,
          0.001995262314968883,
          0.0022387211385683377,
          0.002511886431509582,
          0.002818382931264449,
          0.0031622776601683794,
          0.00354813389233576,
          0.003981071705534969,
          0.004466835921509635,
          0.005011872336272715,
          0.005623413251903491,
          0.006309573444801943,
          0.0070794578438413735,
          0.007943282347242822,
          0.008912509381337442,
          0.01,
          0.01122018454301963,
          0.012589254117941661,
          0.014125375446227554,
          0.01584893192461114,
          0.01778279410038923,
          0.019952623149688785,
          0.022387211385683378,
          0.025118864315095822,
          0.02818382931264455,
          0.03162277660168379,
          0.03548133892335753,
          0.03981071705534969,
          0.04466835921509635,
          0.05011872336272725,
          0.056234132519034905,
          0.0630957344480193,
          0.07079457843841373,
          0.07943282347242822,
          0.08912509381337459,
          0.09999999999999999,
          0.11220184543019653,
          0.12589254117941662,
          0.14125375446227553,
          0.1584893192461114,
          0.17782794100389226,
          0.1995262314968883,
          0.22387211385683378,
          0.25118864315095824,
          0.2818382931264455,
          0.31622776601683794,
          0.3548133892335761,
          0.3981071705534969,
          0.4466835921509635,
          0.5011872336272725,
          0.5623413251903491,
          0.6309573444801942,
          0.7079457843841374,
          0.7943282347242822,
          0.8912509381337459,
          1,
          1.1220184543019651,
          1.2589254117941662
         ],
         "xaxis": "x",
         "y": [
          0,
          0,
          0,
          0,
          0,
          0,
          0,
          0,
          0,
          0,
          0,
          0,
          0,
          0,
          0,
          0,
          0,
          0,
          0,
          0,
          0,
          0,
          0,
          0,
          0,
          0,
          0,
          0,
          0,
          0,
          0,
          0,
          0,
          0,
          0,
          0,
          0,
          0,
          0,
          0,
          0,
          0,
          0,
          0,
          0,
          0,
          0,
          0,
          0,
          0,
          0,
          0,
          0,
          0,
          0,
          0,
          0,
          0,
          0,
          0,
          0,
          0,
          0
         ],
         "yaxis": "y"
        },
        {
         "hoverinfo": "none",
         "line": {
          "color": "rgb(0,113,188)",
          "dash": "solid",
          "width": 2
         },
         "marker": {
          "color": "rgb(0,113,188)",
          "line": {
           "color": "rgb(0,113,188)"
          },
          "size": 6,
          "symbol": "none"
         },
         "mode": "lines",
         "name": "",
         "showlegend": false,
         "type": "scatter",
         "visibility": true,
         "x": [
          3,
          18
         ],
         "xaxis": "x2",
         "y": [
          6.779999999999999,
          6.779999999999999
         ],
         "yaxis": "y2"
        },
        {
         "hoverinfo": "none",
         "line": {
          "color": "rgb(216,82,24)",
          "dash": "solid",
          "width": 2
         },
         "marker": {
          "color": "rgb(216,82,24)",
          "line": {
           "color": "rgb(216,82,24)"
          },
          "size": 6,
          "symbol": "none"
         },
         "mode": "lines",
         "name": "",
         "showlegend": false,
         "type": "scatter",
         "visibility": true,
         "x": [
          3,
          18
         ],
         "xaxis": "x2",
         "y": [
          17.667064786952704,
          17.667064786952704
         ],
         "yaxis": "y2"
        },
        {
         "hoverinfo": "none",
         "line": {
          "color": "rgb(236,176,31)",
          "dash": "solid",
          "width": 2
         },
         "marker": {
          "color": "rgb(236,176,31)",
          "line": {
           "color": "rgb(236,176,31)"
          },
          "size": 6,
          "symbol": "none"
         },
         "mode": "lines",
         "name": "",
         "showlegend": false,
         "type": "scatter",
         "visibility": true,
         "x": [
          3,
          18
         ],
         "xaxis": "x2",
         "y": [
          28.554129573905406,
          28.554129573905406
         ],
         "yaxis": "y2"
        }
       ],
       "layout": {
        "annotations": [
         {
          "font": {
           "color": "rgb(0, 0, 0)",
           "size": 10.8
          },
          "showarrow": false,
          "text": "org",
          "x": 21,
          "xanchor": "left",
          "xref": "x2",
          "y": 6.779999999999999,
          "yanchor": "middle",
          "yref": "y2"
         },
         {
          "font": {
           "color": "rgb(0, 0, 0)",
           "size": 10.8
          },
          "showarrow": false,
          "text": "inorg",
          "x": 21,
          "xanchor": "left",
          "xref": "x2",
          "y": 17.667064786952704,
          "yanchor": "middle",
          "yref": "y2"
         },
         {
          "font": {
           "color": "rgb(0, 0, 0)",
           "size": 10.8
          },
          "showarrow": false,
          "text": "solid",
          "x": 21,
          "xanchor": "left",
          "xref": "x2",
          "y": 28.55412957390541,
          "yanchor": "middle",
          "yref": "y2"
         }
        ],
        "height": 420,
        "hovermode": "closest",
        "margin": {
         "b": 0,
         "l": 0,
         "r": 0,
         "t": 0
        },
        "plot_bgcolor": "rgba(0, 0, 0, 0)",
        "showlegend": false,
        "width": 560,
        "xaxis": {
         "anchor": "y",
         "autorange": false,
         "domain": [
          0.13,
          0.8710542642152141
         ],
         "exponentformat": "none",
         "gridcolor": "rgba(38,38,38,0.15)",
         "gridwidth": 2,
         "linecolor": "rgb(38,38,38)",
         "linewidth": 2,
         "mirror": "ticks",
         "range": [
          0,
          1.2589254117941662
         ],
         "showgrid": false,
         "showline": true,
         "side": "bottom",
         "spikedash": "solid",
         "spikemode": "across",
         "spikesides": false,
         "spikethickness": 1,
         "tickangle": 0,
         "tickcolor": "rgb(38,38,38)",
         "tickfont": {
          "color": "rgb(38,38,38)",
          "size": 12
         },
         "ticklen": 3,
         "ticks": "inside",
         "ticktext": [
          "0",
          "0.2",
          "0.4",
          "0.6",
          "0.8",
          "1",
          "1.2"
         ],
         "tickvals": [
          0,
          0.2,
          0.4,
          0.6000000000000001,
          0.8,
          1,
          1.2000000000000002
         ],
         "title": {
          "font": {
           "color": "rgb(38,38,38)",
           "size": 13.200000000000001
          },
          "text": "EuT (&#956;mol/L)"
         },
         "type": "linear",
         "visible": true,
         "zeroline": false
        },
        "xaxis2": {
         "anchor": "y2",
         "autorange": false,
         "domain": [
          0.8854023630364879,
          0.9856519011787261
         ],
         "exponentformat": "none",
         "fixedrange": true,
         "gridcolor": "rgba(38,38,38,0.15)",
         "gridwidth": 1,
         "linecolor": "rgb(38,38,38)",
         "linewidth": 1,
         "mirror": true,
         "range": [
          0,
          41.92173725215724
         ],
         "showgrid": false,
         "showline": true,
         "showspikes": false,
         "side": "bottom",
         "spikedash": "solid",
         "spikemode": "across",
         "spikesides": false,
         "spikethickness": 1,
         "tickangle": 0,
         "tickcolor": "rgb(38,38,38)",
         "tickfont": {
          "color": "rgb(38,38,38)",
          "size": 10.8
         },
         "ticklen": 3,
         "ticks": "",
         "ticktext": [],
         "tickvals": [],
         "title": {
          "font": {
           "color": "rgb(0, 0, 0)",
           "size": 11.880000000000003
          },
          "text": ""
         },
         "type": "linear",
         "visible": true,
         "zeroline": false
        },
        "yaxis": {
         "anchor": "x",
         "autorange": false,
         "domain": [
          0.11,
          0.9250000000000002
         ],
         "exponentformat": "none",
         "gridcolor": "rgba(38,38,38,0.15)",
         "gridwidth": 2,
         "linecolor": "rgb(38,38,38)",
         "linewidth": 2,
         "mirror": "ticks",
         "range": [
          0,
          1
         ],
         "showgrid": false,
         "showline": true,
         "side": "left",
         "spikedash": "solid",
         "spikemode": "across",
         "spikesides": false,
         "spikethickness": 1,
         "tickangle": 0,
         "tickcolor": "rgb(38,38,38)",
         "tickfont": {
          "color": "rgb(38,38,38)",
          "size": 12
         },
         "ticklen": 3,
         "ticks": "inside",
         "ticktext": [
          "0",
          "0.2",
          "0.4",
          "0.6",
          "0.8",
          "1"
         ],
         "tickvals": [
          0,
          0.2,
          0.4,
          0.6000000000000001,
          0.8,
          1
         ],
         "title": {
          "font": {
           "color": "rgb(38,38,38)",
           "size": 13.200000000000001
          },
          "text": "Eu fraction"
         },
         "type": "linear",
         "visible": true,
         "zeroline": false
        },
        "yaxis2": {
         "anchor": "x2",
         "autorange": false,
         "domain": [
          0.4611691574566568,
          0.5738308425433434
         ],
         "exponentformat": "none",
         "fixedrange": true,
         "gridcolor": "rgba(38,38,38,0.15)",
         "gridwidth": 1,
         "linecolor": "rgb(38,38,38)",
         "linewidth": 1,
         "mirror": true,
         "range": [
          35.33412957390541,
          0
         ],
         "showgrid": false,
         "showline": true,
         "showspikes": false,
         "side": "left",
         "spikedash": "solid",
         "spikemode": "across",
         "spikesides": false,
         "spikethickness": 1,
         "tickangle": 0,
         "tickcolor": "rgb(38,38,38)",
         "tickfont": {
          "color": "rgb(38,38,38)",
          "size": 10.8
         },
         "ticklen": 3,
         "ticks": "",
         "ticktext": [],
         "tickvals": [],
         "title": {
          "font": {
           "color": "rgb(0, 0, 0)",
           "size": 11.880000000000003
          },
          "text": ""
         },
         "type": "linear",
         "visible": true,
         "zeroline": false
        }
       }
      },
      "image/png": "[encoded data removed]"
     },
     "metadata": {},
     "output_type": "display_data"
    }
   ],
   "source": [
    "graphics_toolkit(\"plotly\")\n",
    "plot(EuT*1e6,organicbound./EuT,'linewidth',2,EuT*1e6,inorganicbound./EuT,'linewidth',2,EuT*1e6,solidbound./EuT,'linewidth',2)\n",
    "legend('org','inorg','solid','location','eastoutside')\n",
    "set(gca,'linewidth',2,'fontsize',12)\n",
    "xlabel('EuT (\\mumol/L)'); ylabel('Eu fraction')\n",
    "axis([0 max(EuT*1e6) 0 1])\n"
   ]
  },
  {
   "cell_type": "code",
   "execution_count": null,
   "id": "e192dc6c-6ead-4ab1-8602-f3fe093b0e70",
   "metadata": {},
   "outputs": [],
   "source": [
    "\n"
   ]
  },
  {
   "cell_type": "code",
   "execution_count": null,
   "id": "3d64cb0b-19c7-4060-ab89-1ebf7eee9562",
   "metadata": {},
   "outputs": [],
   "source": []
  }
 ],
 "metadata": {
  "kernelspec": {
   "display_name": "Octave (xoctave)",
   "language": "Octave",
   "name": "xoctave"
  },
  "language_info": {
   "codemirror_mode": "octave",
   "file_extension": ".m",
   "mimetype": "text/x-octave",
   "name": "Octave",
   "nbconvert_exporter": "",
   "pygments_lexer": "octave",
   "version": "7.3.0"
  }
 },
 "nbformat": 4,
 "nbformat_minor": 5
}
